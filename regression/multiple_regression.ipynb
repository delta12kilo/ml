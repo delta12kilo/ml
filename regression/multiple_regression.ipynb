{
 "cells": [
  {
   "cell_type": "code",
   "execution_count": 1,
   "metadata": {},
   "outputs": [],
   "source": [
    "from sklearn.impute import SimpleImputer \n",
    "from sklearn.preprocessing import LabelEncoder, OneHotEncoder\n",
    "from sklearn.preprocessing import StandardScaler\n",
    "from sklearn.linear_model import LinearRegression\n",
    "from sklearn.model_selection import train_test_split\n",
    "import os\n",
    "import numpy as np\n",
    "import pandas as pd\n",
    "import matplotlib.pyplot as plt\n",
    "import plotly.express as px\n",
    "\n",
    "from template import save_model"
   ]
  },
  {
   "cell_type": "code",
   "execution_count": 2,
   "metadata": {},
   "outputs": [],
   "source": [
    "plt.style.use('seaborn')\n",
    "df = pd.read_csv('../dataset/50_Startups.csv')"
   ]
  },
  {
   "cell_type": "code",
   "execution_count": 3,
   "metadata": {},
   "outputs": [
    {
     "output_type": "execute_result",
     "data": {
      "text/plain": [
       "   R&D Spend  Administration  Marketing Spend       State     Profit\n",
       "0   165349.2       136897.80        471784.10    New York  192261.83\n",
       "1   162597.7       151377.59        443898.53  California  191792.06"
      ],
      "text/html": "<div>\n<style scoped>\n    .dataframe tbody tr th:only-of-type {\n        vertical-align: middle;\n    }\n\n    .dataframe tbody tr th {\n        vertical-align: top;\n    }\n\n    .dataframe thead th {\n        text-align: right;\n    }\n</style>\n<table border=\"1\" class=\"dataframe\">\n  <thead>\n    <tr style=\"text-align: right;\">\n      <th></th>\n      <th>R&amp;D Spend</th>\n      <th>Administration</th>\n      <th>Marketing Spend</th>\n      <th>State</th>\n      <th>Profit</th>\n    </tr>\n  </thead>\n  <tbody>\n    <tr>\n      <th>0</th>\n      <td>165349.2</td>\n      <td>136897.80</td>\n      <td>471784.10</td>\n      <td>New York</td>\n      <td>192261.83</td>\n    </tr>\n    <tr>\n      <th>1</th>\n      <td>162597.7</td>\n      <td>151377.59</td>\n      <td>443898.53</td>\n      <td>California</td>\n      <td>191792.06</td>\n    </tr>\n  </tbody>\n</table>\n</div>"
     },
     "metadata": {},
     "execution_count": 3
    }
   ],
   "source": [
    "df.head(2)"
   ]
  },
  {
   "cell_type": "code",
   "execution_count": 4,
   "metadata": {},
   "outputs": [
    {
     "output_type": "execute_result",
     "data": {
      "text/plain": [
       "R&D Spend          0\n",
       "Administration     0\n",
       "Marketing Spend    0\n",
       "State              0\n",
       "Profit             0\n",
       "dtype: int64"
      ]
     },
     "metadata": {},
     "execution_count": 4
    }
   ],
   "source": [
    "df.isnull().sum()"
   ]
  },
  {
   "cell_type": "code",
   "execution_count": 5,
   "metadata": {},
   "outputs": [],
   "source": [
    "state_encod = OneHotEncoder(drop='first')\n",
    "statedf = pd.DataFrame(state_encod.fit_transform(df[['State']]).toarray(),columns=['state1','state2'])"
   ]
  },
  {
   "cell_type": "code",
   "execution_count": 6,
   "metadata": {},
   "outputs": [
    {
     "output_type": "execute_result",
     "data": {
      "text/plain": [
       "    state1  state2\n",
       "0      0.0     1.0\n",
       "1      0.0     0.0\n",
       "2      1.0     0.0\n",
       "3      0.0     1.0\n",
       "4      1.0     0.0\n",
       "5      0.0     1.0\n",
       "6      0.0     0.0\n",
       "7      1.0     0.0\n",
       "8      0.0     1.0\n",
       "9      0.0     0.0\n",
       "10     1.0     0.0\n",
       "11     0.0     0.0\n",
       "12     1.0     0.0\n",
       "13     0.0     0.0\n",
       "14     1.0     0.0\n",
       "15     0.0     1.0\n",
       "16     0.0     0.0\n",
       "17     0.0     1.0\n",
       "18     1.0     0.0\n",
       "19     0.0     1.0\n",
       "20     0.0     0.0\n",
       "21     0.0     1.0\n",
       "22     1.0     0.0\n",
       "23     1.0     0.0\n",
       "24     0.0     1.0\n",
       "25     0.0     0.0\n",
       "26     1.0     0.0\n",
       "27     0.0     1.0\n",
       "28     1.0     0.0\n",
       "29     0.0     1.0\n",
       "30     1.0     0.0\n",
       "31     0.0     1.0\n",
       "32     0.0     0.0\n",
       "33     1.0     0.0\n",
       "34     0.0     0.0\n",
       "35     0.0     1.0\n",
       "36     1.0     0.0\n",
       "37     0.0     0.0\n",
       "38     0.0     1.0\n",
       "39     0.0     0.0\n",
       "40     0.0     0.0\n",
       "41     1.0     0.0\n",
       "42     0.0     0.0\n",
       "43     0.0     1.0\n",
       "44     0.0     0.0\n",
       "45     0.0     1.0\n",
       "46     1.0     0.0\n",
       "47     0.0     0.0\n",
       "48     0.0     1.0\n",
       "49     0.0     0.0"
      ],
      "text/html": "<div>\n<style scoped>\n    .dataframe tbody tr th:only-of-type {\n        vertical-align: middle;\n    }\n\n    .dataframe tbody tr th {\n        vertical-align: top;\n    }\n\n    .dataframe thead th {\n        text-align: right;\n    }\n</style>\n<table border=\"1\" class=\"dataframe\">\n  <thead>\n    <tr style=\"text-align: right;\">\n      <th></th>\n      <th>state1</th>\n      <th>state2</th>\n    </tr>\n  </thead>\n  <tbody>\n    <tr>\n      <th>0</th>\n      <td>0.0</td>\n      <td>1.0</td>\n    </tr>\n    <tr>\n      <th>1</th>\n      <td>0.0</td>\n      <td>0.0</td>\n    </tr>\n    <tr>\n      <th>2</th>\n      <td>1.0</td>\n      <td>0.0</td>\n    </tr>\n    <tr>\n      <th>3</th>\n      <td>0.0</td>\n      <td>1.0</td>\n    </tr>\n    <tr>\n      <th>4</th>\n      <td>1.0</td>\n      <td>0.0</td>\n    </tr>\n    <tr>\n      <th>5</th>\n      <td>0.0</td>\n      <td>1.0</td>\n    </tr>\n    <tr>\n      <th>6</th>\n      <td>0.0</td>\n      <td>0.0</td>\n    </tr>\n    <tr>\n      <th>7</th>\n      <td>1.0</td>\n      <td>0.0</td>\n    </tr>\n    <tr>\n      <th>8</th>\n      <td>0.0</td>\n      <td>1.0</td>\n    </tr>\n    <tr>\n      <th>9</th>\n      <td>0.0</td>\n      <td>0.0</td>\n    </tr>\n    <tr>\n      <th>10</th>\n      <td>1.0</td>\n      <td>0.0</td>\n    </tr>\n    <tr>\n      <th>11</th>\n      <td>0.0</td>\n      <td>0.0</td>\n    </tr>\n    <tr>\n      <th>12</th>\n      <td>1.0</td>\n      <td>0.0</td>\n    </tr>\n    <tr>\n      <th>13</th>\n      <td>0.0</td>\n      <td>0.0</td>\n    </tr>\n    <tr>\n      <th>14</th>\n      <td>1.0</td>\n      <td>0.0</td>\n    </tr>\n    <tr>\n      <th>15</th>\n      <td>0.0</td>\n      <td>1.0</td>\n    </tr>\n    <tr>\n      <th>16</th>\n      <td>0.0</td>\n      <td>0.0</td>\n    </tr>\n    <tr>\n      <th>17</th>\n      <td>0.0</td>\n      <td>1.0</td>\n    </tr>\n    <tr>\n      <th>18</th>\n      <td>1.0</td>\n      <td>0.0</td>\n    </tr>\n    <tr>\n      <th>19</th>\n      <td>0.0</td>\n      <td>1.0</td>\n    </tr>\n    <tr>\n      <th>20</th>\n      <td>0.0</td>\n      <td>0.0</td>\n    </tr>\n    <tr>\n      <th>21</th>\n      <td>0.0</td>\n      <td>1.0</td>\n    </tr>\n    <tr>\n      <th>22</th>\n      <td>1.0</td>\n      <td>0.0</td>\n    </tr>\n    <tr>\n      <th>23</th>\n      <td>1.0</td>\n      <td>0.0</td>\n    </tr>\n    <tr>\n      <th>24</th>\n      <td>0.0</td>\n      <td>1.0</td>\n    </tr>\n    <tr>\n      <th>25</th>\n      <td>0.0</td>\n      <td>0.0</td>\n    </tr>\n    <tr>\n      <th>26</th>\n      <td>1.0</td>\n      <td>0.0</td>\n    </tr>\n    <tr>\n      <th>27</th>\n      <td>0.0</td>\n      <td>1.0</td>\n    </tr>\n    <tr>\n      <th>28</th>\n      <td>1.0</td>\n      <td>0.0</td>\n    </tr>\n    <tr>\n      <th>29</th>\n      <td>0.0</td>\n      <td>1.0</td>\n    </tr>\n    <tr>\n      <th>30</th>\n      <td>1.0</td>\n      <td>0.0</td>\n    </tr>\n    <tr>\n      <th>31</th>\n      <td>0.0</td>\n      <td>1.0</td>\n    </tr>\n    <tr>\n      <th>32</th>\n      <td>0.0</td>\n      <td>0.0</td>\n    </tr>\n    <tr>\n      <th>33</th>\n      <td>1.0</td>\n      <td>0.0</td>\n    </tr>\n    <tr>\n      <th>34</th>\n      <td>0.0</td>\n      <td>0.0</td>\n    </tr>\n    <tr>\n      <th>35</th>\n      <td>0.0</td>\n      <td>1.0</td>\n    </tr>\n    <tr>\n      <th>36</th>\n      <td>1.0</td>\n      <td>0.0</td>\n    </tr>\n    <tr>\n      <th>37</th>\n      <td>0.0</td>\n      <td>0.0</td>\n    </tr>\n    <tr>\n      <th>38</th>\n      <td>0.0</td>\n      <td>1.0</td>\n    </tr>\n    <tr>\n      <th>39</th>\n      <td>0.0</td>\n      <td>0.0</td>\n    </tr>\n    <tr>\n      <th>40</th>\n      <td>0.0</td>\n      <td>0.0</td>\n    </tr>\n    <tr>\n      <th>41</th>\n      <td>1.0</td>\n      <td>0.0</td>\n    </tr>\n    <tr>\n      <th>42</th>\n      <td>0.0</td>\n      <td>0.0</td>\n    </tr>\n    <tr>\n      <th>43</th>\n      <td>0.0</td>\n      <td>1.0</td>\n    </tr>\n    <tr>\n      <th>44</th>\n      <td>0.0</td>\n      <td>0.0</td>\n    </tr>\n    <tr>\n      <th>45</th>\n      <td>0.0</td>\n      <td>1.0</td>\n    </tr>\n    <tr>\n      <th>46</th>\n      <td>1.0</td>\n      <td>0.0</td>\n    </tr>\n    <tr>\n      <th>47</th>\n      <td>0.0</td>\n      <td>0.0</td>\n    </tr>\n    <tr>\n      <th>48</th>\n      <td>0.0</td>\n      <td>1.0</td>\n    </tr>\n    <tr>\n      <th>49</th>\n      <td>0.0</td>\n      <td>0.0</td>\n    </tr>\n  </tbody>\n</table>\n</div>"
     },
     "metadata": {},
     "execution_count": 6
    }
   ],
   "source": [
    "statedf"
   ]
  },
  {
   "cell_type": "code",
   "execution_count": 7,
   "metadata": {},
   "outputs": [],
   "source": [
    "df = pd.concat([statedf,df],axis=1)\n",
    "df.drop(['State'],inplace=True, axis=1)"
   ]
  },
  {
   "cell_type": "code",
   "execution_count": 8,
   "metadata": {},
   "outputs": [
    {
     "output_type": "execute_result",
     "data": {
      "text/plain": [
       "    state1  state2  R&D Spend  Administration  Marketing Spend     Profit\n",
       "0      0.0     1.0  165349.20       136897.80        471784.10  192261.83\n",
       "1      0.0     0.0  162597.70       151377.59        443898.53  191792.06\n",
       "2      1.0     0.0  153441.51       101145.55        407934.54  191050.39\n",
       "3      0.0     1.0  144372.41       118671.85        383199.62  182901.99\n",
       "4      1.0     0.0  142107.34        91391.77        366168.42  166187.94\n",
       "5      0.0     1.0  131876.90        99814.71        362861.36  156991.12\n",
       "6      0.0     0.0  134615.46       147198.87        127716.82  156122.51\n",
       "7      1.0     0.0  130298.13       145530.06        323876.68  155752.60\n",
       "8      0.0     1.0  120542.52       148718.95        311613.29  152211.77\n",
       "9      0.0     0.0  123334.88       108679.17        304981.62  149759.96\n",
       "10     1.0     0.0  101913.08       110594.11        229160.95  146121.95\n",
       "11     0.0     0.0  100671.96        91790.61        249744.55  144259.40\n",
       "12     1.0     0.0   93863.75       127320.38        249839.44  141585.52\n",
       "13     0.0     0.0   91992.39       135495.07        252664.93  134307.35\n",
       "14     1.0     0.0  119943.24       156547.42        256512.92  132602.65\n",
       "15     0.0     1.0  114523.61       122616.84        261776.23  129917.04\n",
       "16     0.0     0.0   78013.11       121597.55        264346.06  126992.93\n",
       "17     0.0     1.0   94657.16       145077.58        282574.31  125370.37\n",
       "18     1.0     0.0   91749.16       114175.79        294919.57  124266.90\n",
       "19     0.0     1.0   86419.70       153514.11             0.00  122776.86\n",
       "20     0.0     0.0   76253.86       113867.30        298664.47  118474.03\n",
       "21     0.0     1.0   78389.47       153773.43        299737.29  111313.02\n",
       "22     1.0     0.0   73994.56       122782.75        303319.26  110352.25\n",
       "23     1.0     0.0   67532.53       105751.03        304768.73  108733.99\n",
       "24     0.0     1.0   77044.01        99281.34        140574.81  108552.04\n",
       "25     0.0     0.0   64664.71       139553.16        137962.62  107404.34\n",
       "26     1.0     0.0   75328.87       144135.98        134050.07  105733.54\n",
       "27     0.0     1.0   72107.60       127864.55        353183.81  105008.31\n",
       "28     1.0     0.0   66051.52       182645.56        118148.20  103282.38\n",
       "29     0.0     1.0   65605.48       153032.06        107138.38  101004.64\n",
       "30     1.0     0.0   61994.48       115641.28         91131.24   99937.59\n",
       "31     0.0     1.0   61136.38       152701.92         88218.23   97483.56\n",
       "32     0.0     0.0   63408.86       129219.61         46085.25   97427.84\n",
       "33     1.0     0.0   55493.95       103057.49        214634.81   96778.92\n",
       "34     0.0     0.0   46426.07       157693.92        210797.67   96712.80\n",
       "35     0.0     1.0   46014.02        85047.44        205517.64   96479.51\n",
       "36     1.0     0.0   28663.76       127056.21        201126.82   90708.19\n",
       "37     0.0     0.0   44069.95        51283.14        197029.42   89949.14\n",
       "38     0.0     1.0   20229.59        65947.93        185265.10   81229.06\n",
       "39     0.0     0.0   38558.51        82982.09        174999.30   81005.76\n",
       "40     0.0     0.0   28754.33       118546.05        172795.67   78239.91\n",
       "41     1.0     0.0   27892.92        84710.77        164470.71   77798.83\n",
       "42     0.0     0.0   23640.93        96189.63        148001.11   71498.49\n",
       "43     0.0     1.0   15505.73       127382.30         35534.17   69758.98\n",
       "44     0.0     0.0   22177.74       154806.14         28334.72   65200.33\n",
       "45     0.0     1.0    1000.23       124153.04          1903.93   64926.08\n",
       "46     1.0     0.0    1315.46       115816.21        297114.46   49490.75\n",
       "47     0.0     0.0       0.00       135426.92             0.00   42559.73\n",
       "48     0.0     1.0     542.05        51743.15             0.00   35673.41\n",
       "49     0.0     0.0       0.00       116983.80         45173.06   14681.40"
      ],
      "text/html": "<div>\n<style scoped>\n    .dataframe tbody tr th:only-of-type {\n        vertical-align: middle;\n    }\n\n    .dataframe tbody tr th {\n        vertical-align: top;\n    }\n\n    .dataframe thead th {\n        text-align: right;\n    }\n</style>\n<table border=\"1\" class=\"dataframe\">\n  <thead>\n    <tr style=\"text-align: right;\">\n      <th></th>\n      <th>state1</th>\n      <th>state2</th>\n      <th>R&amp;D Spend</th>\n      <th>Administration</th>\n      <th>Marketing Spend</th>\n      <th>Profit</th>\n    </tr>\n  </thead>\n  <tbody>\n    <tr>\n      <th>0</th>\n      <td>0.0</td>\n      <td>1.0</td>\n      <td>165349.20</td>\n      <td>136897.80</td>\n      <td>471784.10</td>\n      <td>192261.83</td>\n    </tr>\n    <tr>\n      <th>1</th>\n      <td>0.0</td>\n      <td>0.0</td>\n      <td>162597.70</td>\n      <td>151377.59</td>\n      <td>443898.53</td>\n      <td>191792.06</td>\n    </tr>\n    <tr>\n      <th>2</th>\n      <td>1.0</td>\n      <td>0.0</td>\n      <td>153441.51</td>\n      <td>101145.55</td>\n      <td>407934.54</td>\n      <td>191050.39</td>\n    </tr>\n    <tr>\n      <th>3</th>\n      <td>0.0</td>\n      <td>1.0</td>\n      <td>144372.41</td>\n      <td>118671.85</td>\n      <td>383199.62</td>\n      <td>182901.99</td>\n    </tr>\n    <tr>\n      <th>4</th>\n      <td>1.0</td>\n      <td>0.0</td>\n      <td>142107.34</td>\n      <td>91391.77</td>\n      <td>366168.42</td>\n      <td>166187.94</td>\n    </tr>\n    <tr>\n      <th>5</th>\n      <td>0.0</td>\n      <td>1.0</td>\n      <td>131876.90</td>\n      <td>99814.71</td>\n      <td>362861.36</td>\n      <td>156991.12</td>\n    </tr>\n    <tr>\n      <th>6</th>\n      <td>0.0</td>\n      <td>0.0</td>\n      <td>134615.46</td>\n      <td>147198.87</td>\n      <td>127716.82</td>\n      <td>156122.51</td>\n    </tr>\n    <tr>\n      <th>7</th>\n      <td>1.0</td>\n      <td>0.0</td>\n      <td>130298.13</td>\n      <td>145530.06</td>\n      <td>323876.68</td>\n      <td>155752.60</td>\n    </tr>\n    <tr>\n      <th>8</th>\n      <td>0.0</td>\n      <td>1.0</td>\n      <td>120542.52</td>\n      <td>148718.95</td>\n      <td>311613.29</td>\n      <td>152211.77</td>\n    </tr>\n    <tr>\n      <th>9</th>\n      <td>0.0</td>\n      <td>0.0</td>\n      <td>123334.88</td>\n      <td>108679.17</td>\n      <td>304981.62</td>\n      <td>149759.96</td>\n    </tr>\n    <tr>\n      <th>10</th>\n      <td>1.0</td>\n      <td>0.0</td>\n      <td>101913.08</td>\n      <td>110594.11</td>\n      <td>229160.95</td>\n      <td>146121.95</td>\n    </tr>\n    <tr>\n      <th>11</th>\n      <td>0.0</td>\n      <td>0.0</td>\n      <td>100671.96</td>\n      <td>91790.61</td>\n      <td>249744.55</td>\n      <td>144259.40</td>\n    </tr>\n    <tr>\n      <th>12</th>\n      <td>1.0</td>\n      <td>0.0</td>\n      <td>93863.75</td>\n      <td>127320.38</td>\n      <td>249839.44</td>\n      <td>141585.52</td>\n    </tr>\n    <tr>\n      <th>13</th>\n      <td>0.0</td>\n      <td>0.0</td>\n      <td>91992.39</td>\n      <td>135495.07</td>\n      <td>252664.93</td>\n      <td>134307.35</td>\n    </tr>\n    <tr>\n      <th>14</th>\n      <td>1.0</td>\n      <td>0.0</td>\n      <td>119943.24</td>\n      <td>156547.42</td>\n      <td>256512.92</td>\n      <td>132602.65</td>\n    </tr>\n    <tr>\n      <th>15</th>\n      <td>0.0</td>\n      <td>1.0</td>\n      <td>114523.61</td>\n      <td>122616.84</td>\n      <td>261776.23</td>\n      <td>129917.04</td>\n    </tr>\n    <tr>\n      <th>16</th>\n      <td>0.0</td>\n      <td>0.0</td>\n      <td>78013.11</td>\n      <td>121597.55</td>\n      <td>264346.06</td>\n      <td>126992.93</td>\n    </tr>\n    <tr>\n      <th>17</th>\n      <td>0.0</td>\n      <td>1.0</td>\n      <td>94657.16</td>\n      <td>145077.58</td>\n      <td>282574.31</td>\n      <td>125370.37</td>\n    </tr>\n    <tr>\n      <th>18</th>\n      <td>1.0</td>\n      <td>0.0</td>\n      <td>91749.16</td>\n      <td>114175.79</td>\n      <td>294919.57</td>\n      <td>124266.90</td>\n    </tr>\n    <tr>\n      <th>19</th>\n      <td>0.0</td>\n      <td>1.0</td>\n      <td>86419.70</td>\n      <td>153514.11</td>\n      <td>0.00</td>\n      <td>122776.86</td>\n    </tr>\n    <tr>\n      <th>20</th>\n      <td>0.0</td>\n      <td>0.0</td>\n      <td>76253.86</td>\n      <td>113867.30</td>\n      <td>298664.47</td>\n      <td>118474.03</td>\n    </tr>\n    <tr>\n      <th>21</th>\n      <td>0.0</td>\n      <td>1.0</td>\n      <td>78389.47</td>\n      <td>153773.43</td>\n      <td>299737.29</td>\n      <td>111313.02</td>\n    </tr>\n    <tr>\n      <th>22</th>\n      <td>1.0</td>\n      <td>0.0</td>\n      <td>73994.56</td>\n      <td>122782.75</td>\n      <td>303319.26</td>\n      <td>110352.25</td>\n    </tr>\n    <tr>\n      <th>23</th>\n      <td>1.0</td>\n      <td>0.0</td>\n      <td>67532.53</td>\n      <td>105751.03</td>\n      <td>304768.73</td>\n      <td>108733.99</td>\n    </tr>\n    <tr>\n      <th>24</th>\n      <td>0.0</td>\n      <td>1.0</td>\n      <td>77044.01</td>\n      <td>99281.34</td>\n      <td>140574.81</td>\n      <td>108552.04</td>\n    </tr>\n    <tr>\n      <th>25</th>\n      <td>0.0</td>\n      <td>0.0</td>\n      <td>64664.71</td>\n      <td>139553.16</td>\n      <td>137962.62</td>\n      <td>107404.34</td>\n    </tr>\n    <tr>\n      <th>26</th>\n      <td>1.0</td>\n      <td>0.0</td>\n      <td>75328.87</td>\n      <td>144135.98</td>\n      <td>134050.07</td>\n      <td>105733.54</td>\n    </tr>\n    <tr>\n      <th>27</th>\n      <td>0.0</td>\n      <td>1.0</td>\n      <td>72107.60</td>\n      <td>127864.55</td>\n      <td>353183.81</td>\n      <td>105008.31</td>\n    </tr>\n    <tr>\n      <th>28</th>\n      <td>1.0</td>\n      <td>0.0</td>\n      <td>66051.52</td>\n      <td>182645.56</td>\n      <td>118148.20</td>\n      <td>103282.38</td>\n    </tr>\n    <tr>\n      <th>29</th>\n      <td>0.0</td>\n      <td>1.0</td>\n      <td>65605.48</td>\n      <td>153032.06</td>\n      <td>107138.38</td>\n      <td>101004.64</td>\n    </tr>\n    <tr>\n      <th>30</th>\n      <td>1.0</td>\n      <td>0.0</td>\n      <td>61994.48</td>\n      <td>115641.28</td>\n      <td>91131.24</td>\n      <td>99937.59</td>\n    </tr>\n    <tr>\n      <th>31</th>\n      <td>0.0</td>\n      <td>1.0</td>\n      <td>61136.38</td>\n      <td>152701.92</td>\n      <td>88218.23</td>\n      <td>97483.56</td>\n    </tr>\n    <tr>\n      <th>32</th>\n      <td>0.0</td>\n      <td>0.0</td>\n      <td>63408.86</td>\n      <td>129219.61</td>\n      <td>46085.25</td>\n      <td>97427.84</td>\n    </tr>\n    <tr>\n      <th>33</th>\n      <td>1.0</td>\n      <td>0.0</td>\n      <td>55493.95</td>\n      <td>103057.49</td>\n      <td>214634.81</td>\n      <td>96778.92</td>\n    </tr>\n    <tr>\n      <th>34</th>\n      <td>0.0</td>\n      <td>0.0</td>\n      <td>46426.07</td>\n      <td>157693.92</td>\n      <td>210797.67</td>\n      <td>96712.80</td>\n    </tr>\n    <tr>\n      <th>35</th>\n      <td>0.0</td>\n      <td>1.0</td>\n      <td>46014.02</td>\n      <td>85047.44</td>\n      <td>205517.64</td>\n      <td>96479.51</td>\n    </tr>\n    <tr>\n      <th>36</th>\n      <td>1.0</td>\n      <td>0.0</td>\n      <td>28663.76</td>\n      <td>127056.21</td>\n      <td>201126.82</td>\n      <td>90708.19</td>\n    </tr>\n    <tr>\n      <th>37</th>\n      <td>0.0</td>\n      <td>0.0</td>\n      <td>44069.95</td>\n      <td>51283.14</td>\n      <td>197029.42</td>\n      <td>89949.14</td>\n    </tr>\n    <tr>\n      <th>38</th>\n      <td>0.0</td>\n      <td>1.0</td>\n      <td>20229.59</td>\n      <td>65947.93</td>\n      <td>185265.10</td>\n      <td>81229.06</td>\n    </tr>\n    <tr>\n      <th>39</th>\n      <td>0.0</td>\n      <td>0.0</td>\n      <td>38558.51</td>\n      <td>82982.09</td>\n      <td>174999.30</td>\n      <td>81005.76</td>\n    </tr>\n    <tr>\n      <th>40</th>\n      <td>0.0</td>\n      <td>0.0</td>\n      <td>28754.33</td>\n      <td>118546.05</td>\n      <td>172795.67</td>\n      <td>78239.91</td>\n    </tr>\n    <tr>\n      <th>41</th>\n      <td>1.0</td>\n      <td>0.0</td>\n      <td>27892.92</td>\n      <td>84710.77</td>\n      <td>164470.71</td>\n      <td>77798.83</td>\n    </tr>\n    <tr>\n      <th>42</th>\n      <td>0.0</td>\n      <td>0.0</td>\n      <td>23640.93</td>\n      <td>96189.63</td>\n      <td>148001.11</td>\n      <td>71498.49</td>\n    </tr>\n    <tr>\n      <th>43</th>\n      <td>0.0</td>\n      <td>1.0</td>\n      <td>15505.73</td>\n      <td>127382.30</td>\n      <td>35534.17</td>\n      <td>69758.98</td>\n    </tr>\n    <tr>\n      <th>44</th>\n      <td>0.0</td>\n      <td>0.0</td>\n      <td>22177.74</td>\n      <td>154806.14</td>\n      <td>28334.72</td>\n      <td>65200.33</td>\n    </tr>\n    <tr>\n      <th>45</th>\n      <td>0.0</td>\n      <td>1.0</td>\n      <td>1000.23</td>\n      <td>124153.04</td>\n      <td>1903.93</td>\n      <td>64926.08</td>\n    </tr>\n    <tr>\n      <th>46</th>\n      <td>1.0</td>\n      <td>0.0</td>\n      <td>1315.46</td>\n      <td>115816.21</td>\n      <td>297114.46</td>\n      <td>49490.75</td>\n    </tr>\n    <tr>\n      <th>47</th>\n      <td>0.0</td>\n      <td>0.0</td>\n      <td>0.00</td>\n      <td>135426.92</td>\n      <td>0.00</td>\n      <td>42559.73</td>\n    </tr>\n    <tr>\n      <th>48</th>\n      <td>0.0</td>\n      <td>1.0</td>\n      <td>542.05</td>\n      <td>51743.15</td>\n      <td>0.00</td>\n      <td>35673.41</td>\n    </tr>\n    <tr>\n      <th>49</th>\n      <td>0.0</td>\n      <td>0.0</td>\n      <td>0.00</td>\n      <td>116983.80</td>\n      <td>45173.06</td>\n      <td>14681.40</td>\n    </tr>\n  </tbody>\n</table>\n</div>"
     },
     "metadata": {},
     "execution_count": 8
    }
   ],
   "source": [
    "# cleaned\n",
    "df"
   ]
  },
  {
   "cell_type": "markdown",
   "metadata": {},
   "source": [
    "Implementing Multiple linear regression\n",
    "    - dividing into x and y\n",
    "    - split into train and test\n",
    "    - fit the algo\n",
    "    - test the algo\n",
    "    - predict\n",
    "    - visualize"
   ]
  },
  {
   "cell_type": "code",
   "execution_count": 9,
   "metadata": {},
   "outputs": [
    {
     "output_type": "execute_result",
     "data": {
      "text/plain": [
       "['state1',\n",
       " 'state2',\n",
       " 'R&D Spend',\n",
       " 'Administration',\n",
       " 'Marketing Spend',\n",
       " 'Profit']"
      ]
     },
     "metadata": {},
     "execution_count": 9
    }
   ],
   "source": [
    "df.columns.to_list()"
   ]
  },
  {
   "cell_type": "code",
   "execution_count": 10,
   "metadata": {},
   "outputs": [],
   "source": [
    "x = df[['state1', 'state2', 'R&D Spend', 'Administration', 'Marketing Spend', 'Profit']]\n",
    "y = df['Profit']"
   ]
  },
  {
   "cell_type": "code",
   "execution_count": 11,
   "metadata": {},
   "outputs": [
    {
     "output_type": "stream",
     "name": "stdout",
     "text": [
      "[[-0.68599434  1.39326109  2.01641149  0.56075291  2.15394309  2.01120333]\n [-0.68599434 -0.71774056  1.95586034  1.08280658  1.9236004   1.99942997]\n [ 1.45773797 -0.71774056  1.75436374 -0.72825703  1.62652767  1.98084225]\n [-0.68599434  1.39326109  1.55478369 -0.09636463  1.42221024  1.77662724]\n [ 1.45773797 -0.71774056  1.5049372  -1.07991935  1.28152771  1.35774012]\n [-0.68599434  1.39326109  1.27980001 -0.77623907  1.25421046  1.12724963]\n [-0.68599434 -0.71774056  1.34006641  0.93214721 -0.68814993  1.10548055]\n [ 1.45773797 -0.71774056  1.24505666  0.87198001  0.93218598  1.09620987]\n [-0.68599434  1.39326109  1.03036886  0.9869521   0.83088691  1.00746967]\n [-0.68599434 -0.71774056  1.09181921 -0.45664025  0.77610744  0.94602247]]\n"
     ]
    }
   ],
   "source": [
    "# scale the value of x\n",
    "\n",
    "scalerx = StandardScaler()\n",
    "x = scalerx.fit_transform(x)\n",
    "print(x[:10]) "
   ]
  },
  {
   "cell_type": "code",
   "execution_count": 12,
   "metadata": {},
   "outputs": [],
   "source": [
    "xtrain,xtest, ytrain,ytest = train_test_split(x,y,test_size=.2,random_state=2)     # random state doesnt changes the value of prediction score"
   ]
  },
  {
   "cell_type": "code",
   "execution_count": 13,
   "metadata": {},
   "outputs": [
    {
     "output_type": "stream",
     "name": "stdout",
     "text": [
      "(40, 6) (40,) (10, 6) (10,)\n"
     ]
    }
   ],
   "source": [
    "print(xtrain.shape, ytrain.shape, xtest.shape, ytest.shape)"
   ]
  },
  {
   "cell_type": "code",
   "execution_count": 14,
   "metadata": {},
   "outputs": [
    {
     "output_type": "execute_result",
     "data": {
      "text/plain": [
       "LinearRegression()"
      ]
     },
     "metadata": {},
     "execution_count": 14
    }
   ],
   "source": [
    "reg = LinearRegression()\n",
    "reg.fit(xtrain, ytrain)"
   ]
  },
  {
   "cell_type": "code",
   "execution_count": 15,
   "metadata": {},
   "outputs": [
    {
     "output_type": "execute_result",
     "data": {
      "text/plain": [
       "112012.63920000003"
      ]
     },
     "metadata": {},
     "execution_count": 15
    }
   ],
   "source": [
    "reg.intercept_"
   ]
  },
  {
   "cell_type": "code",
   "execution_count": 16,
   "metadata": {},
   "outputs": [
    {
     "output_type": "execute_result",
     "data": {
      "text/plain": [
       "array([-3.05124924e-12, -5.45696821e-12, -8.18545232e-12, -7.16227078e-12,\n",
       "        0.00000000e+00,  3.99010828e+04])"
      ]
     },
     "metadata": {},
     "execution_count": 16
    }
   ],
   "source": [
    "reg.coef_"
   ]
  },
  {
   "cell_type": "code",
   "execution_count": 17,
   "metadata": {},
   "outputs": [
    {
     "output_type": "execute_result",
     "data": {
      "text/plain": [
       "1.0"
      ]
     },
     "metadata": {},
     "execution_count": 17
    }
   ],
   "source": [
    "reg.score(xtest,ytest)"
   ]
  },
  {
   "cell_type": "code",
   "execution_count": 18,
   "metadata": {},
   "outputs": [],
   "source": [
    "ypred = reg.predict(x)"
   ]
  },
  {
   "cell_type": "code",
   "execution_count": 19,
   "metadata": {},
   "outputs": [],
   "source": [
    "df['predicted_profit'] = ypred"
   ]
  },
  {
   "cell_type": "code",
   "execution_count": 20,
   "metadata": {},
   "outputs": [
    {
     "output_type": "display_data",
     "data": {
      "text/plain": "<Figure size 720x360 with 1 Axes>",
      "image/svg+xml": "<?xml version=\"1.0\" encoding=\"utf-8\" standalone=\"no\"?>\n<!DOCTYPE svg PUBLIC \"-//W3C//DTD SVG 1.1//EN\"\n  \"http://www.w3.org/Graphics/SVG/1.1/DTD/svg11.dtd\">\n<svg height=\"317.218125pt\" version=\"1.1\" viewBox=\"0 0 607.554062 317.218125\" width=\"607.554062pt\" xmlns=\"http://www.w3.org/2000/svg\" xmlns:xlink=\"http://www.w3.org/1999/xlink\">\n <metadata>\n  <rdf:RDF xmlns:cc=\"http://creativecommons.org/ns#\" xmlns:dc=\"http://purl.org/dc/elements/1.1/\" xmlns:rdf=\"http://www.w3.org/1999/02/22-rdf-syntax-ns#\">\n   <cc:Work>\n    <dc:type rdf:resource=\"http://purl.org/dc/dcmitype/StillImage\"/>\n    <dc:date>2021-04-01T13:23:13.306813</dc:date>\n    <dc:format>image/svg+xml</dc:format>\n    <dc:creator>\n     <cc:Agent>\n      <dc:title>Matplotlib v3.4.1, https://matplotlib.org/</dc:title>\n     </cc:Agent>\n    </dc:creator>\n   </cc:Work>\n  </rdf:RDF>\n </metadata>\n <defs>\n  <style type=\"text/css\">*{stroke-linecap:butt;stroke-linejoin:round;}</style>\n </defs>\n <g id=\"figure_1\">\n  <g id=\"patch_1\">\n   <path d=\"M 0 317.218125 \nL 607.554062 317.218125 \nL 607.554062 0 \nL 0 0 \nz\n\" style=\"fill:#ffffff;\"/>\n  </g>\n  <g id=\"axes_1\">\n   <g id=\"patch_2\">\n    <path d=\"M 42.354063 293.69625 \nL 600.354063 293.69625 \nL 600.354063 21.89625 \nL 42.354063 21.89625 \nz\n\" style=\"fill:#eaeaf2;\"/>\n   </g>\n   <g id=\"matplotlib.axis_1\">\n    <g id=\"xtick_1\">\n     <g id=\"line2d_1\">\n      <path clip-path=\"url(#p04880c2737)\" d=\"M 102.15208 293.69625 \nL 102.15208 21.89625 \n\" style=\"fill:none;stroke:#ffffff;stroke-linecap:round;\"/>\n     </g>\n     <g id=\"line2d_2\"/>\n     <g id=\"text_1\">\n      <!-- −50000 -->\n      <g style=\"fill:#262626;\" transform=\"translate(85.329424 307.943125)scale(0.1 -0.1)\">\n       <defs>\n        <path d=\"M 316 1900 \nL 316 2356 \nL 3425 2356 \nL 3425 1900 \nL 316 1900 \nz\n\" id=\"LiberationSans-2212\" transform=\"scale(0.015625)\"/>\n        <path d=\"M 3291 1434 \nQ 3291 1103 3191 828 \nQ 3091 553 2894 354 \nQ 2697 156 2405 46 \nQ 2113 -63 1728 -63 \nQ 1381 -63 1123 18 \nQ 866 100 687 242 \nQ 509 384 404 575 \nQ 300 766 256 984 \nL 825 1050 \nQ 859 925 921 808 \nQ 984 691 1092 598 \nQ 1200 506 1358 451 \nQ 1516 397 1741 397 \nQ 1959 397 2137 464 \nQ 2316 531 2442 662 \nQ 2569 794 2637 984 \nQ 2706 1175 2706 1422 \nQ 2706 1625 2640 1795 \nQ 2575 1966 2453 2089 \nQ 2331 2213 2154 2281 \nQ 1978 2350 1753 2350 \nQ 1613 2350 1494 2325 \nQ 1375 2300 1273 2256 \nQ 1172 2213 1089 2155 \nQ 1006 2097 934 2034 \nL 384 2034 \nL 531 4403 \nL 3034 4403 \nL 3034 3925 \nL 1044 3925 \nL 959 2528 \nQ 1109 2644 1334 2726 \nQ 1559 2809 1869 2809 \nQ 2197 2809 2459 2709 \nQ 2722 2609 2906 2426 \nQ 3091 2244 3191 1991 \nQ 3291 1738 3291 1434 \nz\n\" id=\"LiberationSans-35\" transform=\"scale(0.015625)\"/>\n        <path d=\"M 3309 2203 \nQ 3309 1569 3189 1136 \nQ 3069 703 2861 436 \nQ 2653 169 2372 53 \nQ 2091 -63 1772 -63 \nQ 1450 -63 1172 53 \nQ 894 169 689 434 \nQ 484 700 367 1133 \nQ 250 1566 250 2203 \nQ 250 2869 367 3305 \nQ 484 3741 690 4000 \nQ 897 4259 1178 4364 \nQ 1459 4469 1791 4469 \nQ 2106 4469 2382 4364 \nQ 2659 4259 2865 4000 \nQ 3072 3741 3190 3305 \nQ 3309 2869 3309 2203 \nz\nM 2738 2203 \nQ 2738 2728 2675 3076 \nQ 2613 3425 2491 3633 \nQ 2369 3841 2192 3927 \nQ 2016 4013 1791 4013 \nQ 1553 4013 1372 3925 \nQ 1191 3838 1067 3630 \nQ 944 3422 881 3073 \nQ 819 2725 819 2203 \nQ 819 1697 883 1350 \nQ 947 1003 1070 792 \nQ 1194 581 1372 489 \nQ 1550 397 1778 397 \nQ 2000 397 2178 489 \nQ 2356 581 2479 792 \nQ 2603 1003 2670 1350 \nQ 2738 1697 2738 2203 \nz\n\" id=\"LiberationSans-30\" transform=\"scale(0.015625)\"/>\n       </defs>\n       <use xlink:href=\"#LiberationSans-2212\"/>\n       <use x=\"58.398438\" xlink:href=\"#LiberationSans-35\"/>\n       <use x=\"114.013672\" xlink:href=\"#LiberationSans-30\"/>\n       <use x=\"169.628906\" xlink:href=\"#LiberationSans-30\"/>\n       <use x=\"225.244141\" xlink:href=\"#LiberationSans-30\"/>\n       <use x=\"280.859375\" xlink:href=\"#LiberationSans-30\"/>\n      </g>\n     </g>\n    </g>\n    <g id=\"xtick_2\">\n     <g id=\"line2d_3\">\n      <path clip-path=\"url(#p04880c2737)\" d=\"M 173.566583 293.69625 \nL 173.566583 21.89625 \n\" style=\"fill:none;stroke:#ffffff;stroke-linecap:round;\"/>\n     </g>\n     <g id=\"line2d_4\"/>\n     <g id=\"text_2\">\n      <!-- 0 -->\n      <g style=\"fill:#262626;\" transform=\"translate(170.786114 307.943125)scale(0.1 -0.1)\">\n       <use xlink:href=\"#LiberationSans-30\"/>\n      </g>\n     </g>\n    </g>\n    <g id=\"xtick_3\">\n     <g id=\"line2d_5\">\n      <path clip-path=\"url(#p04880c2737)\" d=\"M 244.981086 293.69625 \nL 244.981086 21.89625 \n\" style=\"fill:none;stroke:#ffffff;stroke-linecap:round;\"/>\n     </g>\n     <g id=\"line2d_6\"/>\n     <g id=\"text_3\">\n      <!-- 50000 -->\n      <g style=\"fill:#262626;\" transform=\"translate(231.078742 307.943125)scale(0.1 -0.1)\">\n       <use xlink:href=\"#LiberationSans-35\"/>\n       <use x=\"55.615234\" xlink:href=\"#LiberationSans-30\"/>\n       <use x=\"111.230469\" xlink:href=\"#LiberationSans-30\"/>\n       <use x=\"166.845703\" xlink:href=\"#LiberationSans-30\"/>\n       <use x=\"222.460938\" xlink:href=\"#LiberationSans-30\"/>\n      </g>\n     </g>\n    </g>\n    <g id=\"xtick_4\">\n     <g id=\"line2d_7\">\n      <path clip-path=\"url(#p04880c2737)\" d=\"M 316.395589 293.69625 \nL 316.395589 21.89625 \n\" style=\"fill:none;stroke:#ffffff;stroke-linecap:round;\"/>\n     </g>\n     <g id=\"line2d_8\"/>\n     <g id=\"text_4\">\n      <!-- 100000 -->\n      <g style=\"fill:#262626;\" transform=\"translate(299.712777 307.943125)scale(0.1 -0.1)\">\n       <defs>\n        <path d=\"M 488 0 \nL 488 478 \nL 1609 478 \nL 1609 3866 \nL 616 3156 \nL 616 3688 \nL 1656 4403 \nL 2175 4403 \nL 2175 478 \nL 3247 478 \nL 3247 0 \nL 488 0 \nz\n\" id=\"LiberationSans-31\" transform=\"scale(0.015625)\"/>\n       </defs>\n       <use xlink:href=\"#LiberationSans-31\"/>\n       <use x=\"55.615234\" xlink:href=\"#LiberationSans-30\"/>\n       <use x=\"111.230469\" xlink:href=\"#LiberationSans-30\"/>\n       <use x=\"166.845703\" xlink:href=\"#LiberationSans-30\"/>\n       <use x=\"222.460938\" xlink:href=\"#LiberationSans-30\"/>\n       <use x=\"278.076172\" xlink:href=\"#LiberationSans-30\"/>\n      </g>\n     </g>\n    </g>\n    <g id=\"xtick_5\">\n     <g id=\"line2d_9\">\n      <path clip-path=\"url(#p04880c2737)\" d=\"M 387.810092 293.69625 \nL 387.810092 21.89625 \n\" style=\"fill:none;stroke:#ffffff;stroke-linecap:round;\"/>\n     </g>\n     <g id=\"line2d_10\"/>\n     <g id=\"text_5\">\n      <!-- 150000 -->\n      <g style=\"fill:#262626;\" transform=\"translate(371.12728 307.943125)scale(0.1 -0.1)\">\n       <use xlink:href=\"#LiberationSans-31\"/>\n       <use x=\"55.615234\" xlink:href=\"#LiberationSans-35\"/>\n       <use x=\"111.230469\" xlink:href=\"#LiberationSans-30\"/>\n       <use x=\"166.845703\" xlink:href=\"#LiberationSans-30\"/>\n       <use x=\"222.460938\" xlink:href=\"#LiberationSans-30\"/>\n       <use x=\"278.076172\" xlink:href=\"#LiberationSans-30\"/>\n      </g>\n     </g>\n    </g>\n    <g id=\"xtick_6\">\n     <g id=\"line2d_11\">\n      <path clip-path=\"url(#p04880c2737)\" d=\"M 459.224596 293.69625 \nL 459.224596 21.89625 \n\" style=\"fill:none;stroke:#ffffff;stroke-linecap:round;\"/>\n     </g>\n     <g id=\"line2d_12\"/>\n     <g id=\"text_6\">\n      <!-- 200000 -->\n      <g style=\"fill:#262626;\" transform=\"translate(442.541783 307.943125)scale(0.1 -0.1)\">\n       <defs>\n        <path d=\"M 322 0 \nL 322 397 \nQ 481 763 711 1042 \nQ 941 1322 1194 1548 \nQ 1447 1775 1695 1969 \nQ 1944 2163 2144 2356 \nQ 2344 2550 2467 2762 \nQ 2591 2975 2591 3244 \nQ 2591 3431 2534 3573 \nQ 2478 3716 2372 3812 \nQ 2266 3909 2117 3957 \nQ 1969 4006 1788 4006 \nQ 1619 4006 1470 3959 \nQ 1322 3913 1206 3819 \nQ 1091 3725 1017 3586 \nQ 944 3447 922 3263 \nL 347 3316 \nQ 375 3553 478 3762 \nQ 581 3972 762 4130 \nQ 944 4288 1198 4378 \nQ 1453 4469 1788 4469 \nQ 2116 4469 2372 4391 \nQ 2628 4313 2804 4159 \nQ 2981 4006 3075 3781 \nQ 3169 3556 3169 3263 \nQ 3169 3041 3089 2841 \nQ 3009 2641 2876 2459 \nQ 2744 2278 2569 2109 \nQ 2394 1941 2203 1780 \nQ 2013 1619 1819 1461 \nQ 1625 1303 1454 1143 \nQ 1284 984 1150 820 \nQ 1016 656 941 478 \nL 3238 478 \nL 3238 0 \nL 322 0 \nz\n\" id=\"LiberationSans-32\" transform=\"scale(0.015625)\"/>\n       </defs>\n       <use xlink:href=\"#LiberationSans-32\"/>\n       <use x=\"55.615234\" xlink:href=\"#LiberationSans-30\"/>\n       <use x=\"111.230469\" xlink:href=\"#LiberationSans-30\"/>\n       <use x=\"166.845703\" xlink:href=\"#LiberationSans-30\"/>\n       <use x=\"222.460938\" xlink:href=\"#LiberationSans-30\"/>\n       <use x=\"278.076172\" xlink:href=\"#LiberationSans-30\"/>\n      </g>\n     </g>\n    </g>\n    <g id=\"xtick_7\">\n     <g id=\"line2d_13\">\n      <path clip-path=\"url(#p04880c2737)\" d=\"M 530.639099 293.69625 \nL 530.639099 21.89625 \n\" style=\"fill:none;stroke:#ffffff;stroke-linecap:round;\"/>\n     </g>\n     <g id=\"line2d_14\"/>\n     <g id=\"text_7\">\n      <!-- 250000 -->\n      <g style=\"fill:#262626;\" transform=\"translate(513.956286 307.943125)scale(0.1 -0.1)\">\n       <use xlink:href=\"#LiberationSans-32\"/>\n       <use x=\"55.615234\" xlink:href=\"#LiberationSans-35\"/>\n       <use x=\"111.230469\" xlink:href=\"#LiberationSans-30\"/>\n       <use x=\"166.845703\" xlink:href=\"#LiberationSans-30\"/>\n       <use x=\"222.460938\" xlink:href=\"#LiberationSans-30\"/>\n       <use x=\"278.076172\" xlink:href=\"#LiberationSans-30\"/>\n      </g>\n     </g>\n    </g>\n   </g>\n   <g id=\"matplotlib.axis_2\">\n    <g id=\"ytick_1\">\n     <g id=\"line2d_15\">\n      <path clip-path=\"url(#p04880c2737)\" d=\"M 42.354063 281.341806 \nL 600.354063 281.341806 \n\" style=\"fill:none;stroke:#ffffff;stroke-linecap:round;\"/>\n     </g>\n     <g id=\"line2d_16\"/>\n     <g id=\"text_8\">\n      <!-- 0.0 -->\n      <g style=\"fill:#262626;\" transform=\"translate(21.454063 284.965243)scale(0.1 -0.1)\">\n       <defs>\n        <path d=\"M 584 0 \nL 584 684 \nL 1194 684 \nL 1194 0 \nL 584 0 \nz\n\" id=\"LiberationSans-2e\" transform=\"scale(0.015625)\"/>\n       </defs>\n       <use xlink:href=\"#LiberationSans-30\"/>\n       <use x=\"55.615234\" xlink:href=\"#LiberationSans-2e\"/>\n       <use x=\"83.398438\" xlink:href=\"#LiberationSans-30\"/>\n      </g>\n     </g>\n    </g>\n    <g id=\"ytick_2\">\n     <g id=\"line2d_17\">\n      <path clip-path=\"url(#p04880c2737)\" d=\"M 42.354063 230.385687 \nL 600.354063 230.385687 \n\" style=\"fill:none;stroke:#ffffff;stroke-linecap:round;\"/>\n     </g>\n     <g id=\"line2d_18\"/>\n     <g id=\"text_9\">\n      <!-- 0.2 -->\n      <g style=\"fill:#262626;\" transform=\"translate(21.454063 234.009124)scale(0.1 -0.1)\">\n       <use xlink:href=\"#LiberationSans-30\"/>\n       <use x=\"55.615234\" xlink:href=\"#LiberationSans-2e\"/>\n       <use x=\"83.398438\" xlink:href=\"#LiberationSans-32\"/>\n      </g>\n     </g>\n    </g>\n    <g id=\"ytick_3\">\n     <g id=\"line2d_19\">\n      <path clip-path=\"url(#p04880c2737)\" d=\"M 42.354063 179.429568 \nL 600.354063 179.429568 \n\" style=\"fill:none;stroke:#ffffff;stroke-linecap:round;\"/>\n     </g>\n     <g id=\"line2d_20\"/>\n     <g id=\"text_10\">\n      <!-- 0.4 -->\n      <g style=\"fill:#262626;\" transform=\"translate(21.454063 183.053006)scale(0.1 -0.1)\">\n       <defs>\n        <path d=\"M 2753 997 \nL 2753 0 \nL 2222 0 \nL 2222 997 \nL 147 997 \nL 147 1434 \nL 2163 4403 \nL 2753 4403 \nL 2753 1441 \nL 3372 1441 \nL 3372 997 \nL 2753 997 \nz\nM 2222 3769 \nQ 2216 3753 2191 3708 \nQ 2166 3663 2134 3606 \nQ 2103 3550 2070 3492 \nQ 2038 3434 2013 3397 \nL 884 1734 \nQ 869 1709 839 1668 \nQ 809 1628 778 1586 \nQ 747 1544 715 1503 \nQ 684 1463 666 1441 \nL 2222 1441 \nL 2222 3769 \nz\n\" id=\"LiberationSans-34\" transform=\"scale(0.015625)\"/>\n       </defs>\n       <use xlink:href=\"#LiberationSans-30\"/>\n       <use x=\"55.615234\" xlink:href=\"#LiberationSans-2e\"/>\n       <use x=\"83.398438\" xlink:href=\"#LiberationSans-34\"/>\n      </g>\n     </g>\n    </g>\n    <g id=\"ytick_4\">\n     <g id=\"line2d_21\">\n      <path clip-path=\"url(#p04880c2737)\" d=\"M 42.354063 128.473449 \nL 600.354063 128.473449 \n\" style=\"fill:none;stroke:#ffffff;stroke-linecap:round;\"/>\n     </g>\n     <g id=\"line2d_22\"/>\n     <g id=\"text_11\">\n      <!-- 0.6 -->\n      <g style=\"fill:#262626;\" transform=\"translate(21.454063 132.096887)scale(0.1 -0.1)\">\n       <defs>\n        <path d=\"M 3278 1441 \nQ 3278 1109 3186 832 \nQ 3094 556 2914 357 \nQ 2734 159 2468 48 \nQ 2203 -63 1856 -63 \nQ 1472 -63 1184 84 \nQ 897 231 706 507 \nQ 516 784 420 1186 \nQ 325 1588 325 2100 \nQ 325 2688 433 3131 \nQ 541 3575 744 3872 \nQ 947 4169 1239 4319 \nQ 1531 4469 1900 4469 \nQ 2125 4469 2322 4422 \nQ 2519 4375 2680 4270 \nQ 2841 4166 2962 3994 \nQ 3084 3822 3156 3572 \nL 2619 3475 \nQ 2531 3759 2339 3886 \nQ 2147 4013 1894 4013 \nQ 1663 4013 1475 3903 \nQ 1288 3794 1156 3576 \nQ 1025 3359 954 3031 \nQ 884 2703 884 2266 \nQ 1038 2550 1316 2698 \nQ 1594 2847 1953 2847 \nQ 2253 2847 2497 2750 \nQ 2741 2653 2914 2470 \nQ 3088 2288 3183 2027 \nQ 3278 1766 3278 1441 \nz\nM 2706 1416 \nQ 2706 1644 2650 1828 \nQ 2594 2013 2481 2142 \nQ 2369 2272 2203 2342 \nQ 2038 2413 1819 2413 \nQ 1666 2413 1509 2367 \nQ 1353 2322 1226 2220 \nQ 1100 2119 1020 1953 \nQ 941 1788 941 1550 \nQ 941 1306 1003 1095 \nQ 1066 884 1183 728 \nQ 1300 572 1465 481 \nQ 1631 391 1838 391 \nQ 2041 391 2202 461 \nQ 2363 531 2475 664 \nQ 2588 797 2647 987 \nQ 2706 1178 2706 1416 \nz\n\" id=\"LiberationSans-36\" transform=\"scale(0.015625)\"/>\n       </defs>\n       <use xlink:href=\"#LiberationSans-30\"/>\n       <use x=\"55.615234\" xlink:href=\"#LiberationSans-2e\"/>\n       <use x=\"83.398438\" xlink:href=\"#LiberationSans-36\"/>\n      </g>\n     </g>\n    </g>\n    <g id=\"ytick_5\">\n     <g id=\"line2d_23\">\n      <path clip-path=\"url(#p04880c2737)\" d=\"M 42.354063 77.517331 \nL 600.354063 77.517331 \n\" style=\"fill:none;stroke:#ffffff;stroke-linecap:round;\"/>\n     </g>\n     <g id=\"line2d_24\"/>\n     <g id=\"text_12\">\n      <!-- 0.8 -->\n      <g style=\"fill:#262626;\" transform=\"translate(21.454063 81.140768)scale(0.1 -0.1)\">\n       <defs>\n        <path d=\"M 3281 1228 \nQ 3281 947 3192 711 \nQ 3103 475 2920 303 \nQ 2738 131 2453 34 \nQ 2169 -63 1781 -63 \nQ 1394 -63 1111 34 \nQ 828 131 642 301 \nQ 456 472 367 708 \nQ 278 944 278 1222 \nQ 278 1463 351 1650 \nQ 425 1838 548 1973 \nQ 672 2109 830 2192 \nQ 988 2275 1156 2303 \nL 1156 2316 \nQ 972 2359 826 2456 \nQ 681 2553 582 2689 \nQ 484 2825 432 2990 \nQ 381 3156 381 3341 \nQ 381 3572 470 3776 \nQ 559 3981 734 4136 \nQ 909 4291 1168 4380 \nQ 1428 4469 1769 4469 \nQ 2128 4469 2392 4378 \nQ 2656 4288 2829 4133 \nQ 3003 3978 3087 3772 \nQ 3172 3566 3172 3334 \nQ 3172 3153 3120 2987 \nQ 3069 2822 2970 2686 \nQ 2872 2550 2726 2454 \nQ 2581 2359 2391 2322 \nL 2391 2309 \nQ 2581 2278 2743 2195 \nQ 2906 2113 3025 1977 \nQ 3144 1841 3212 1653 \nQ 3281 1466 3281 1228 \nz\nM 2588 3303 \nQ 2588 3469 2545 3606 \nQ 2503 3744 2406 3842 \nQ 2309 3941 2153 3995 \nQ 1997 4050 1769 4050 \nQ 1547 4050 1394 3995 \nQ 1241 3941 1142 3842 \nQ 1044 3744 1000 3606 \nQ 956 3469 956 3303 \nQ 956 3172 990 3034 \nQ 1025 2897 1115 2784 \nQ 1206 2672 1365 2600 \nQ 1525 2528 1775 2528 \nQ 2041 2528 2202 2600 \nQ 2363 2672 2448 2784 \nQ 2534 2897 2561 3034 \nQ 2588 3172 2588 3303 \nz\nM 2697 1281 \nQ 2697 1441 2653 1589 \nQ 2609 1738 2503 1852 \nQ 2397 1966 2217 2036 \nQ 2038 2106 1769 2106 \nQ 1522 2106 1348 2036 \nQ 1175 1966 1067 1850 \nQ 959 1734 909 1582 \nQ 859 1431 859 1269 \nQ 859 1066 909 898 \nQ 959 731 1068 611 \nQ 1178 491 1356 425 \nQ 1534 359 1788 359 \nQ 2044 359 2219 425 \nQ 2394 491 2500 611 \nQ 2606 731 2651 901 \nQ 2697 1072 2697 1281 \nz\n\" id=\"LiberationSans-38\" transform=\"scale(0.015625)\"/>\n       </defs>\n       <use xlink:href=\"#LiberationSans-30\"/>\n       <use x=\"55.615234\" xlink:href=\"#LiberationSans-2e\"/>\n       <use x=\"83.398438\" xlink:href=\"#LiberationSans-38\"/>\n      </g>\n     </g>\n    </g>\n    <g id=\"ytick_6\">\n     <g id=\"line2d_25\">\n      <path clip-path=\"url(#p04880c2737)\" d=\"M 42.354063 26.561212 \nL 600.354063 26.561212 \n\" style=\"fill:none;stroke:#ffffff;stroke-linecap:round;\"/>\n     </g>\n     <g id=\"line2d_26\"/>\n     <g id=\"text_13\">\n      <!-- 1.0 -->\n      <g style=\"fill:#262626;\" transform=\"translate(21.454063 30.18465)scale(0.1 -0.1)\">\n       <use xlink:href=\"#LiberationSans-31\"/>\n       <use x=\"55.615234\" xlink:href=\"#LiberationSans-2e\"/>\n       <use x=\"83.398438\" xlink:href=\"#LiberationSans-30\"/>\n      </g>\n     </g>\n    </g>\n    <g id=\"text_14\">\n     <!-- Density -->\n     <g style=\"fill:#262626;\" transform=\"translate(15.171563 176.135313)rotate(-90)scale(0.11 -0.11)\">\n      <defs>\n       <path d=\"M 4316 2247 \nQ 4316 1697 4150 1276 \nQ 3984 856 3696 573 \nQ 3409 291 3017 145 \nQ 2625 0 2172 0 \nL 525 0 \nL 525 4403 \nL 1981 4403 \nQ 2491 4403 2920 4276 \nQ 3350 4150 3659 3886 \nQ 3969 3622 4142 3215 \nQ 4316 2809 4316 2247 \nz\nM 3716 2247 \nQ 3716 2694 3587 3011 \nQ 3459 3328 3228 3531 \nQ 2997 3734 2675 3829 \nQ 2353 3925 1969 3925 \nL 1122 3925 \nL 1122 478 \nL 2103 478 \nQ 2450 478 2745 590 \nQ 3041 703 3256 925 \nQ 3472 1147 3594 1478 \nQ 3716 1809 3716 2247 \nz\n\" id=\"LiberationSans-44\" transform=\"scale(0.015625)\"/>\n       <path d=\"M 863 1572 \nQ 863 1306 917 1082 \nQ 972 859 1086 698 \nQ 1200 538 1378 448 \nQ 1556 359 1806 359 \nQ 2172 359 2392 506 \nQ 2613 653 2691 878 \nL 3184 738 \nQ 3131 597 3036 455 \nQ 2941 313 2781 198 \nQ 2622 84 2383 10 \nQ 2144 -63 1806 -63 \nQ 1056 -63 664 384 \nQ 272 831 272 1713 \nQ 272 2188 390 2517 \nQ 509 2847 715 3053 \nQ 922 3259 1197 3351 \nQ 1472 3444 1784 3444 \nQ 2209 3444 2495 3306 \nQ 2781 3169 2954 2926 \nQ 3128 2684 3201 2356 \nQ 3275 2028 3275 1647 \nL 3275 1572 \nL 863 1572 \nz\nM 2694 2003 \nQ 2647 2538 2422 2783 \nQ 2197 3028 1775 3028 \nQ 1634 3028 1479 2983 \nQ 1325 2938 1194 2822 \nQ 1063 2706 972 2507 \nQ 881 2309 869 2003 \nL 2694 2003 \nz\n\" id=\"LiberationSans-65\" transform=\"scale(0.015625)\"/>\n       <path d=\"M 2578 0 \nL 2578 2144 \nQ 2578 2391 2542 2556 \nQ 2506 2722 2425 2823 \nQ 2344 2925 2211 2967 \nQ 2078 3009 1881 3009 \nQ 1681 3009 1520 2939 \nQ 1359 2869 1245 2736 \nQ 1131 2603 1068 2408 \nQ 1006 2213 1006 1959 \nL 1006 0 \nL 444 0 \nL 444 2659 \nQ 444 2766 442 2883 \nQ 441 3000 437 3104 \nQ 434 3209 431 3284 \nQ 428 3359 425 3381 \nL 956 3381 \nQ 959 3366 962 3297 \nQ 966 3228 970 3139 \nQ 975 3050 978 2958 \nQ 981 2866 981 2803 \nL 991 2803 \nQ 1072 2950 1169 3069 \nQ 1266 3188 1394 3270 \nQ 1522 3353 1687 3398 \nQ 1853 3444 2072 3444 \nQ 2353 3444 2556 3375 \nQ 2759 3306 2890 3162 \nQ 3022 3019 3083 2792 \nQ 3144 2566 3144 2253 \nL 3144 0 \nL 2578 0 \nz\n\" id=\"LiberationSans-6e\" transform=\"scale(0.015625)\"/>\n       <path d=\"M 2969 934 \nQ 2969 697 2876 511 \nQ 2784 325 2609 198 \nQ 2434 72 2179 4 \nQ 1925 -63 1597 -63 \nQ 1303 -63 1067 -17 \nQ 831 28 653 128 \nQ 475 228 354 392 \nQ 234 556 178 794 \nL 675 891 \nQ 747 619 972 492 \nQ 1197 366 1597 366 \nQ 1778 366 1929 391 \nQ 2081 416 2190 477 \nQ 2300 538 2361 639 \nQ 2422 741 2422 891 \nQ 2422 1044 2350 1142 \nQ 2278 1241 2150 1306 \nQ 2022 1372 1839 1420 \nQ 1656 1469 1438 1528 \nQ 1234 1581 1034 1647 \nQ 834 1713 673 1820 \nQ 513 1928 413 2087 \nQ 313 2247 313 2488 \nQ 313 2950 642 3192 \nQ 972 3434 1603 3434 \nQ 2163 3434 2492 3237 \nQ 2822 3041 2909 2606 \nL 2403 2544 \nQ 2375 2675 2300 2764 \nQ 2225 2853 2119 2908 \nQ 2013 2963 1880 2986 \nQ 1747 3009 1603 3009 \nQ 1222 3009 1040 2893 \nQ 859 2778 859 2544 \nQ 859 2406 926 2317 \nQ 994 2228 1114 2167 \nQ 1234 2106 1403 2061 \nQ 1572 2016 1775 1966 \nQ 1909 1931 2050 1892 \nQ 2191 1853 2323 1798 \nQ 2456 1744 2573 1670 \nQ 2691 1597 2778 1494 \nQ 2866 1391 2917 1253 \nQ 2969 1116 2969 934 \nz\n\" id=\"LiberationSans-73\" transform=\"scale(0.015625)\"/>\n       <path d=\"M 428 4100 \nL 428 4638 \nL 991 4638 \nL 991 4100 \nL 428 4100 \nz\nM 428 0 \nL 428 3381 \nL 991 3381 \nL 991 0 \nL 428 0 \nz\n\" id=\"LiberationSans-69\" transform=\"scale(0.015625)\"/>\n       <path d=\"M 1731 25 \nQ 1603 -9 1470 -29 \nQ 1338 -50 1163 -50 \nQ 488 -50 488 716 \nL 488 2972 \nL 97 2972 \nL 97 3381 \nL 509 3381 \nL 675 4138 \nL 1050 4138 \nL 1050 3381 \nL 1675 3381 \nL 1675 2972 \nL 1050 2972 \nL 1050 838 \nQ 1050 594 1129 495 \nQ 1209 397 1406 397 \nQ 1488 397 1564 409 \nQ 1641 422 1731 441 \nL 1731 25 \nz\n\" id=\"LiberationSans-74\" transform=\"scale(0.015625)\"/>\n       <path d=\"M 1888 0 \nQ 1769 -306 1645 -551 \nQ 1522 -797 1369 -970 \nQ 1216 -1144 1028 -1236 \nQ 841 -1328 597 -1328 \nQ 491 -1328 400 -1322 \nQ 309 -1316 209 -1294 \nL 209 -872 \nQ 269 -881 344 -886 \nQ 419 -891 472 -891 \nQ 719 -891 931 -706 \nQ 1144 -522 1303 -119 \nL 1356 16 \nL 16 3381 \nL 616 3381 \nL 1328 1513 \nQ 1359 1428 1407 1287 \nQ 1456 1147 1504 1006 \nQ 1553 866 1590 753 \nQ 1628 641 1634 613 \nQ 1644 647 1680 748 \nQ 1716 850 1761 975 \nQ 1806 1100 1853 1228 \nQ 1900 1356 1931 1450 \nL 2594 3381 \nL 3188 3381 \nL 1888 0 \nz\n\" id=\"LiberationSans-79\" transform=\"scale(0.015625)\"/>\n      </defs>\n      <use xlink:href=\"#LiberationSans-44\"/>\n      <use x=\"72.216797\" xlink:href=\"#LiberationSans-65\"/>\n      <use x=\"127.832031\" xlink:href=\"#LiberationSans-6e\"/>\n      <use x=\"183.447266\" xlink:href=\"#LiberationSans-73\"/>\n      <use x=\"233.447266\" xlink:href=\"#LiberationSans-69\"/>\n      <use x=\"255.664062\" xlink:href=\"#LiberationSans-74\"/>\n      <use x=\"283.447266\" xlink:href=\"#LiberationSans-79\"/>\n     </g>\n    </g>\n    <g id=\"text_15\">\n     <!-- 1e−5 -->\n     <g style=\"fill:#262626;\" transform=\"translate(42.354063 18.89625)scale(0.1 -0.1)\">\n      <use xlink:href=\"#LiberationSans-31\"/>\n      <use x=\"55.615234\" xlink:href=\"#LiberationSans-65\"/>\n      <use x=\"111.230469\" xlink:href=\"#LiberationSans-2212\"/>\n      <use x=\"169.628906\" xlink:href=\"#LiberationSans-35\"/>\n     </g>\n    </g>\n   </g>\n   <g id=\"line2d_27\">\n    <path clip-path=\"url(#p04880c2737)\" d=\"M 67.717699 281.341705 \nL 114.433506 281.231934 \nL 125.096896 280.99028 \nL 132.713604 280.608741 \nL 138.80697 280.094154 \nL 144.392556 279.395449 \nL 149.470361 278.524596 \nL 154.040385 277.517339 \nL 158.61041 276.27662 \nL 163.180434 274.789526 \nL 167.750459 273.05205 \nL 172.320483 271.068666 \nL 176.890508 268.850408 \nL 181.968313 266.127858 \nL 187.046118 263.152593 \nL 192.631704 259.603648 \nL 198.217289 255.768598 \nL 203.295094 252.022222 \nL 208.3729 248.003187 \nL 212.942924 244.121242 \nL 217.512949 239.947959 \nL 221.575193 235.952424 \nL 225.637437 231.640963 \nL 229.1919 227.567253 \nL 232.746364 223.170012 \nL 236.300827 218.405654 \nL 239.855291 213.229704 \nL 243.409755 207.599404 \nL 246.456438 202.382716 \nL 250.010901 195.813097 \nL 253.565365 188.702163 \nL 257.119828 181.039872 \nL 260.674292 172.829827 \nL 264.228755 164.090451 \nL 268.290999 153.498984 \nL 272.861024 140.909037 \nL 278.44661 124.778923 \nL 293.680025 80.19211 \nL 297.234488 70.644151 \nL 300.281171 63.036124 \nL 302.820074 57.201459 \nL 305.358977 51.903519 \nL 307.390099 48.097 \nL 309.421221 44.708161 \nL 311.452343 41.764142 \nL 313.483465 39.287474 \nL 315.006806 37.747288 \nL 316.530148 36.485024 \nL 318.053489 35.503958 \nL 319.576831 34.805383 \nL 321.100172 34.388576 \nL 322.623514 34.250795 \nL 324.146855 34.387311 \nL 325.670197 34.791464 \nL 327.193538 35.454759 \nL 328.71688 36.366985 \nL 330.240221 37.516368 \nL 332.271343 39.394853 \nL 334.302465 41.636972 \nL 336.333587 44.205405 \nL 338.87249 47.814922 \nL 341.919173 52.627828 \nL 345.473637 58.738137 \nL 350.043661 67.077718 \nL 366.800418 98.061567 \nL 389.650541 139.129119 \nL 398.282809 155.598811 \nL 406.407298 170.956862 \nL 410.977322 179.138046 \nL 415.039566 185.956388 \nL 418.59403 191.506554 \nL 422.148493 196.646504 \nL 425.702957 201.38883 \nL 429.25742 205.777125 \nL 433.319664 210.448336 \nL 438.90525 216.503395 \nL 449.568641 227.992477 \nL 455.154226 234.370926 \nL 462.770934 243.461102 \nL 470.895422 253.108809 \nL 475.465447 258.189731 \nL 479.01991 261.845755 \nL 482.574374 265.183151 \nL 485.621057 267.761952 \nL 488.66774 270.067036 \nL 491.714423 272.095455 \nL 494.761106 273.852833 \nL 497.807789 275.352007 \nL 500.854472 276.611414 \nL 503.901155 277.653384 \nL 507.455619 278.627055 \nL 511.010082 279.378473 \nL 515.072326 280.015108 \nL 519.642351 280.511455 \nL 525.227936 280.89183 \nL 532.336863 281.148224 \nL 543.508035 281.29731 \nL 568.89706 281.340993 \nL 574.990426 281.341535 \nL 574.990426 281.341535 \n\" style=\"fill:none;stroke:#4c72b0;stroke-linecap:round;stroke-width:1.75;\"/>\n   </g>\n   <g id=\"line2d_28\">\n    <path clip-path=\"url(#p04880c2737)\" d=\"M 67.717699 281.341705 \nL 114.433506 281.231934 \nL 125.096896 280.99028 \nL 132.713604 280.608741 \nL 138.80697 280.094154 \nL 144.392556 279.395449 \nL 149.470361 278.524596 \nL 154.040385 277.517339 \nL 158.61041 276.27662 \nL 163.180434 274.789526 \nL 167.750459 273.05205 \nL 172.320483 271.068666 \nL 176.890508 268.850408 \nL 181.968313 266.127858 \nL 187.046118 263.152593 \nL 192.631704 259.603648 \nL 198.217289 255.768598 \nL 203.295094 252.022222 \nL 208.3729 248.003187 \nL 212.942924 244.121242 \nL 217.512949 239.947959 \nL 221.575193 235.952424 \nL 225.637437 231.640963 \nL 229.1919 227.567253 \nL 232.746364 223.170012 \nL 236.300827 218.405654 \nL 239.855291 213.229704 \nL 243.409755 207.599404 \nL 246.456438 202.382716 \nL 250.010901 195.813097 \nL 253.565365 188.702163 \nL 257.119828 181.039872 \nL 260.674292 172.829827 \nL 264.228755 164.090451 \nL 268.290999 153.498984 \nL 272.861024 140.909037 \nL 278.44661 124.778923 \nL 293.680025 80.19211 \nL 297.234488 70.644151 \nL 300.281171 63.036124 \nL 302.820074 57.201459 \nL 305.358977 51.903519 \nL 307.390099 48.097 \nL 309.421221 44.708161 \nL 311.452343 41.764142 \nL 313.483465 39.287474 \nL 315.006806 37.747288 \nL 316.530148 36.485024 \nL 318.053489 35.503958 \nL 319.576831 34.805383 \nL 321.100172 34.388576 \nL 322.623514 34.250795 \nL 324.146855 34.387311 \nL 325.670197 34.791464 \nL 327.193538 35.454759 \nL 328.71688 36.366985 \nL 330.240221 37.516368 \nL 332.271343 39.394853 \nL 334.302465 41.636972 \nL 336.333587 44.205405 \nL 338.87249 47.814922 \nL 341.919173 52.627828 \nL 345.473637 58.738137 \nL 350.043661 67.077718 \nL 366.800418 98.061567 \nL 389.650541 139.129119 \nL 398.282809 155.598811 \nL 406.407298 170.956862 \nL 410.977322 179.138046 \nL 415.039566 185.956388 \nL 418.59403 191.506554 \nL 422.148493 196.646504 \nL 425.702957 201.38883 \nL 429.25742 205.777125 \nL 433.319664 210.448336 \nL 438.90525 216.503395 \nL 449.568641 227.992477 \nL 455.154226 234.370926 \nL 462.770934 243.461102 \nL 470.895422 253.108809 \nL 475.465447 258.189731 \nL 479.01991 261.845755 \nL 482.574374 265.183151 \nL 485.621057 267.761952 \nL 488.66774 270.067036 \nL 491.714423 272.095455 \nL 494.761106 273.852833 \nL 497.807789 275.352007 \nL 500.854472 276.611414 \nL 503.901155 277.653384 \nL 507.455619 278.627055 \nL 511.010082 279.378473 \nL 515.072326 280.015108 \nL 519.642351 280.511455 \nL 525.227936 280.89183 \nL 532.336863 281.148224 \nL 543.508035 281.29731 \nL 568.89706 281.340993 \nL 574.990426 281.341535 \nL 574.990426 281.341535 \n\" style=\"fill:none;stroke:#55a868;stroke-linecap:round;stroke-width:1.75;\"/>\n   </g>\n   <g id=\"patch_3\">\n    <path d=\"M 42.354063 293.69625 \nL 42.354063 21.89625 \n\" style=\"fill:none;\"/>\n   </g>\n   <g id=\"patch_4\">\n    <path d=\"M 600.354063 293.69625 \nL 600.354063 21.89625 \n\" style=\"fill:none;\"/>\n   </g>\n   <g id=\"patch_5\">\n    <path d=\"M 42.354063 293.69625 \nL 600.354063 293.69625 \n\" style=\"fill:none;\"/>\n   </g>\n   <g id=\"patch_6\">\n    <path d=\"M 42.354063 21.89625 \nL 600.354063 21.89625 \n\" style=\"fill:none;\"/>\n   </g>\n   <g id=\"text_16\">\n    <!-- Profit prediction model -->\n    <g style=\"fill:#262626;\" transform=\"translate(261.6625 15.89625)scale(0.12 -0.12)\">\n     <defs>\n      <path d=\"M 3931 3078 \nQ 3931 2791 3836 2542 \nQ 3741 2294 3552 2111 \nQ 3363 1928 3078 1822 \nQ 2794 1716 2416 1716 \nL 1122 1716 \nL 1122 0 \nL 525 0 \nL 525 4403 \nL 2378 4403 \nQ 2769 4403 3059 4308 \nQ 3350 4213 3544 4039 \nQ 3738 3866 3834 3620 \nQ 3931 3375 3931 3078 \nz\nM 3331 3072 \nQ 3331 3491 3075 3708 \nQ 2819 3925 2306 3925 \nL 1122 3925 \nL 1122 2188 \nL 2331 2188 \nQ 2847 2188 3089 2416 \nQ 3331 2644 3331 3072 \nz\n\" id=\"LiberationSans-50\" transform=\"scale(0.015625)\"/>\n      <path d=\"M 444 0 \nL 444 2594 \nQ 444 2700 442 2811 \nQ 441 2922 437 3025 \nQ 434 3128 431 3218 \nQ 428 3309 425 3381 \nL 956 3381 \nQ 959 3309 964 3217 \nQ 969 3125 973 3028 \nQ 978 2931 979 2842 \nQ 981 2753 981 2691 \nL 994 2691 \nQ 1053 2884 1120 3026 \nQ 1188 3169 1278 3261 \nQ 1369 3353 1494 3398 \nQ 1619 3444 1797 3444 \nQ 1866 3444 1928 3433 \nQ 1991 3422 2025 3413 \nL 2025 2897 \nQ 1969 2913 1894 2920 \nQ 1819 2928 1725 2928 \nQ 1531 2928 1395 2840 \nQ 1259 2753 1173 2598 \nQ 1088 2444 1047 2230 \nQ 1006 2016 1006 1763 \nL 1006 0 \nL 444 0 \nz\n\" id=\"LiberationSans-72\" transform=\"scale(0.015625)\"/>\n      <path d=\"M 3291 1694 \nQ 3291 806 2900 371 \nQ 2509 -63 1766 -63 \nQ 1413 -63 1134 43 \nQ 856 150 664 369 \nQ 472 588 370 917 \nQ 269 1247 269 1694 \nQ 269 3444 1784 3444 \nQ 2178 3444 2464 3334 \nQ 2750 3225 2933 3006 \nQ 3116 2788 3203 2459 \nQ 3291 2131 3291 1694 \nz\nM 2700 1694 \nQ 2700 2088 2639 2344 \nQ 2578 2600 2461 2753 \nQ 2344 2906 2175 2967 \nQ 2006 3028 1794 3028 \nQ 1578 3028 1404 2964 \nQ 1231 2900 1109 2745 \nQ 988 2591 923 2334 \nQ 859 2078 859 1694 \nQ 859 1300 928 1042 \nQ 997 784 1117 631 \nQ 1238 478 1402 415 \nQ 1566 353 1759 353 \nQ 1975 353 2150 414 \nQ 2325 475 2447 628 \nQ 2569 781 2634 1040 \nQ 2700 1300 2700 1694 \nz\n\" id=\"LiberationSans-6f\" transform=\"scale(0.015625)\"/>\n      <path d=\"M 1128 2972 \nL 1128 0 \nL 566 0 \nL 566 2972 \nL 91 2972 \nL 91 3381 \nL 566 3381 \nL 566 3763 \nQ 566 3947 600 4105 \nQ 634 4263 726 4380 \nQ 819 4497 978 4564 \nQ 1138 4631 1391 4631 \nQ 1491 4631 1598 4622 \nQ 1706 4613 1788 4594 \nL 1788 4166 \nQ 1734 4175 1664 4183 \nQ 1594 4191 1538 4191 \nQ 1413 4191 1333 4156 \nQ 1253 4122 1208 4058 \nQ 1163 3994 1145 3900 \nQ 1128 3806 1128 3684 \nL 1128 3381 \nL 1788 3381 \nL 1788 2972 \nL 1128 2972 \nz\n\" id=\"LiberationSans-66\" transform=\"scale(0.015625)\"/>\n      <path id=\"LiberationSans-20\" transform=\"scale(0.015625)\"/>\n      <path d=\"M 3291 1706 \nQ 3291 1322 3228 997 \nQ 3166 672 3020 437 \nQ 2875 203 2636 70 \nQ 2397 -63 2047 -63 \nQ 1684 -63 1412 75 \nQ 1141 213 997 525 \nL 981 525 \nQ 984 519 986 469 \nQ 988 419 989 344 \nQ 991 269 992 176 \nQ 994 84 994 -6 \nL 994 -1328 \nL 431 -1328 \nL 431 2691 \nQ 431 2813 429 2925 \nQ 428 3038 425 3130 \nQ 422 3222 419 3287 \nQ 416 3353 413 3381 \nL 956 3381 \nQ 959 3372 964 3315 \nQ 969 3259 973 3179 \nQ 978 3100 983 3009 \nQ 988 2919 988 2838 \nL 1000 2838 \nQ 1078 3000 1178 3114 \nQ 1278 3228 1406 3301 \nQ 1534 3375 1692 3408 \nQ 1850 3441 2047 3441 \nQ 2397 3441 2636 3316 \nQ 2875 3191 3020 2964 \nQ 3166 2738 3228 2417 \nQ 3291 2097 3291 1706 \nz\nM 2700 1694 \nQ 2700 2006 2662 2250 \nQ 2625 2494 2533 2662 \nQ 2441 2831 2287 2918 \nQ 2134 3006 1903 3006 \nQ 1716 3006 1550 2953 \nQ 1384 2900 1261 2750 \nQ 1138 2600 1066 2336 \nQ 994 2072 994 1650 \nQ 994 1291 1053 1042 \nQ 1113 794 1227 641 \nQ 1341 488 1509 420 \nQ 1678 353 1897 353 \nQ 2131 353 2286 443 \nQ 2441 534 2533 706 \nQ 2625 878 2662 1126 \nQ 2700 1375 2700 1694 \nz\n\" id=\"LiberationSans-70\" transform=\"scale(0.015625)\"/>\n      <path d=\"M 2566 544 \nQ 2409 219 2151 78 \nQ 1894 -63 1513 -63 \nQ 872 -63 570 368 \nQ 269 800 269 1675 \nQ 269 3444 1513 3444 \nQ 1897 3444 2153 3303 \nQ 2409 3163 2566 2856 \nL 2572 2856 \nQ 2572 2888 2570 2955 \nQ 2569 3022 2567 3095 \nQ 2566 3169 2566 3234 \nQ 2566 3300 2566 3328 \nL 2566 4638 \nL 3128 4638 \nL 3128 697 \nQ 3128 575 3129 462 \nQ 3131 350 3134 256 \nQ 3138 163 3141 95 \nQ 3144 28 3147 0 \nL 2609 0 \nQ 2603 31 2598 89 \nQ 2594 147 2589 222 \nQ 2584 297 2581 380 \nQ 2578 463 2578 544 \nL 2566 544 \nz\nM 859 1694 \nQ 859 1344 903 1094 \nQ 947 844 1044 683 \nQ 1141 522 1291 447 \nQ 1441 372 1656 372 \nQ 1878 372 2048 444 \nQ 2219 516 2333 677 \nQ 2447 838 2506 1097 \nQ 2566 1356 2566 1731 \nQ 2566 2091 2506 2339 \nQ 2447 2588 2331 2741 \nQ 2216 2894 2048 2961 \nQ 1881 3028 1663 3028 \nQ 1456 3028 1306 2956 \nQ 1156 2884 1056 2725 \nQ 956 2566 907 2311 \nQ 859 2056 859 1694 \nz\n\" id=\"LiberationSans-64\" transform=\"scale(0.015625)\"/>\n      <path d=\"M 859 1706 \nQ 859 1416 901 1172 \nQ 944 928 1044 751 \nQ 1144 575 1308 478 \nQ 1472 381 1713 381 \nQ 2013 381 2214 543 \nQ 2416 706 2463 1044 \nL 3031 1006 \nQ 3003 797 2909 603 \nQ 2816 409 2655 262 \nQ 2494 116 2262 26 \nQ 2031 -63 1728 -63 \nQ 1331 -63 1053 71 \nQ 775 206 601 442 \nQ 428 678 350 998 \nQ 272 1319 272 1694 \nQ 272 2034 328 2295 \nQ 384 2556 486 2751 \nQ 588 2947 725 3080 \nQ 863 3213 1023 3292 \nQ 1184 3372 1362 3408 \nQ 1541 3444 1722 3444 \nQ 2006 3444 2228 3366 \nQ 2450 3288 2611 3152 \nQ 2772 3016 2872 2831 \nQ 2972 2647 3013 2434 \nL 2434 2391 \nQ 2391 2672 2212 2837 \nQ 2034 3003 1706 3003 \nQ 1466 3003 1305 2923 \nQ 1144 2844 1044 2683 \nQ 944 2522 901 2278 \nQ 859 2034 859 1706 \nz\n\" id=\"LiberationSans-63\" transform=\"scale(0.015625)\"/>\n      <path d=\"M 2400 0 \nL 2400 2144 \nQ 2400 2391 2369 2556 \nQ 2338 2722 2264 2823 \nQ 2191 2925 2072 2967 \nQ 1953 3009 1781 3009 \nQ 1603 3009 1459 2939 \nQ 1316 2869 1214 2736 \nQ 1113 2603 1058 2408 \nQ 1003 2213 1003 1959 \nL 1003 0 \nL 444 0 \nL 444 2659 \nQ 444 2766 442 2883 \nQ 441 3000 437 3104 \nQ 434 3209 431 3284 \nQ 428 3359 425 3381 \nL 956 3381 \nQ 959 3366 962 3297 \nQ 966 3228 970 3139 \nQ 975 3050 978 2958 \nQ 981 2866 981 2803 \nL 991 2803 \nQ 1066 2950 1153 3069 \nQ 1241 3188 1358 3270 \nQ 1475 3353 1626 3398 \nQ 1778 3444 1978 3444 \nQ 2363 3444 2586 3291 \nQ 2809 3138 2897 2803 \nL 2906 2803 \nQ 2981 2950 3075 3069 \nQ 3169 3188 3294 3270 \nQ 3419 3353 3575 3398 \nQ 3731 3444 3931 3444 \nQ 4188 3444 4373 3375 \nQ 4559 3306 4678 3162 \nQ 4797 3019 4853 2792 \nQ 4909 2566 4909 2253 \nL 4909 0 \nL 4353 0 \nL 4353 2144 \nQ 4353 2391 4322 2556 \nQ 4291 2722 4217 2823 \nQ 4144 2925 4025 2967 \nQ 3906 3009 3734 3009 \nQ 3556 3009 3412 2942 \nQ 3269 2875 3167 2744 \nQ 3066 2613 3011 2416 \nQ 2956 2219 2956 1959 \nL 2956 0 \nL 2400 0 \nz\n\" id=\"LiberationSans-6d\" transform=\"scale(0.015625)\"/>\n      <path d=\"M 431 0 \nL 431 4638 \nL 994 4638 \nL 994 0 \nL 431 0 \nz\n\" id=\"LiberationSans-6c\" transform=\"scale(0.015625)\"/>\n     </defs>\n     <use xlink:href=\"#LiberationSans-50\"/>\n     <use x=\"66.699219\" xlink:href=\"#LiberationSans-72\"/>\n     <use x=\"100\" xlink:href=\"#LiberationSans-6f\"/>\n     <use x=\"155.615234\" xlink:href=\"#LiberationSans-66\"/>\n     <use x=\"183.398438\" xlink:href=\"#LiberationSans-69\"/>\n     <use x=\"205.615234\" xlink:href=\"#LiberationSans-74\"/>\n     <use x=\"233.398438\" xlink:href=\"#LiberationSans-20\"/>\n     <use x=\"261.181641\" xlink:href=\"#LiberationSans-70\"/>\n     <use x=\"316.796875\" xlink:href=\"#LiberationSans-72\"/>\n     <use x=\"350.097656\" xlink:href=\"#LiberationSans-65\"/>\n     <use x=\"405.712891\" xlink:href=\"#LiberationSans-64\"/>\n     <use x=\"461.328125\" xlink:href=\"#LiberationSans-69\"/>\n     <use x=\"483.544922\" xlink:href=\"#LiberationSans-63\"/>\n     <use x=\"533.544922\" xlink:href=\"#LiberationSans-74\"/>\n     <use x=\"561.328125\" xlink:href=\"#LiberationSans-69\"/>\n     <use x=\"583.544922\" xlink:href=\"#LiberationSans-6f\"/>\n     <use x=\"639.160156\" xlink:href=\"#LiberationSans-6e\"/>\n     <use x=\"694.775391\" xlink:href=\"#LiberationSans-20\"/>\n     <use x=\"722.558594\" xlink:href=\"#LiberationSans-6d\"/>\n     <use x=\"805.859375\" xlink:href=\"#LiberationSans-6f\"/>\n     <use x=\"861.474609\" xlink:href=\"#LiberationSans-64\"/>\n     <use x=\"917.089844\" xlink:href=\"#LiberationSans-65\"/>\n     <use x=\"972.705078\" xlink:href=\"#LiberationSans-6c\"/>\n    </g>\n   </g>\n   <g id=\"legend_1\">\n    <g id=\"line2d_29\">\n     <path d=\"M 494.429062 34.643125 \nL 514.429062 34.643125 \n\" style=\"fill:none;stroke:#4c72b0;stroke-linecap:round;stroke-width:1.75;\"/>\n    </g>\n    <g id=\"line2d_30\"/>\n    <g id=\"text_17\">\n     <!-- Profit -->\n     <g style=\"fill:#262626;\" transform=\"translate(522.429062 38.143125)scale(0.1 -0.1)\">\n      <use xlink:href=\"#LiberationSans-50\"/>\n      <use x=\"66.699219\" xlink:href=\"#LiberationSans-72\"/>\n      <use x=\"100\" xlink:href=\"#LiberationSans-6f\"/>\n      <use x=\"155.615234\" xlink:href=\"#LiberationSans-66\"/>\n      <use x=\"183.398438\" xlink:href=\"#LiberationSans-69\"/>\n      <use x=\"205.615234\" xlink:href=\"#LiberationSans-74\"/>\n     </g>\n    </g>\n    <g id=\"line2d_31\">\n     <path d=\"M 494.429062 48.965 \nL 514.429062 48.965 \n\" style=\"fill:none;stroke:#55a868;stroke-linecap:round;stroke-width:1.75;\"/>\n    </g>\n    <g id=\"line2d_32\"/>\n    <g id=\"text_18\">\n     <!-- predicted_profit -->\n     <g style=\"fill:#262626;\" transform=\"translate(522.429062 52.465)scale(0.1 -0.1)\">\n      <defs>\n       <path d=\"M -97 -1272 \nL -97 -866 \nL 3631 -866 \nL 3631 -1272 \nL -97 -1272 \nz\n\" id=\"LiberationSans-5f\" transform=\"scale(0.015625)\"/>\n      </defs>\n      <use xlink:href=\"#LiberationSans-70\"/>\n      <use x=\"55.615234\" xlink:href=\"#LiberationSans-72\"/>\n      <use x=\"88.916016\" xlink:href=\"#LiberationSans-65\"/>\n      <use x=\"144.53125\" xlink:href=\"#LiberationSans-64\"/>\n      <use x=\"200.146484\" xlink:href=\"#LiberationSans-69\"/>\n      <use x=\"222.363281\" xlink:href=\"#LiberationSans-63\"/>\n      <use x=\"272.363281\" xlink:href=\"#LiberationSans-74\"/>\n      <use x=\"300.146484\" xlink:href=\"#LiberationSans-65\"/>\n      <use x=\"355.761719\" xlink:href=\"#LiberationSans-64\"/>\n      <use x=\"411.376953\" xlink:href=\"#LiberationSans-5f\"/>\n      <use x=\"466.992188\" xlink:href=\"#LiberationSans-70\"/>\n      <use x=\"522.607422\" xlink:href=\"#LiberationSans-72\"/>\n      <use x=\"555.908203\" xlink:href=\"#LiberationSans-6f\"/>\n      <use x=\"611.523438\" xlink:href=\"#LiberationSans-66\"/>\n      <use x=\"639.306641\" xlink:href=\"#LiberationSans-69\"/>\n      <use x=\"661.523438\" xlink:href=\"#LiberationSans-74\"/>\n     </g>\n    </g>\n   </g>\n  </g>\n </g>\n <defs>\n  <clipPath id=\"p04880c2737\">\n   <rect height=\"271.8\" width=\"558\" x=\"42.354063\" y=\"21.89625\"/>\n  </clipPath>\n </defs>\n</svg>\n",
      "image/png": "[encoded data removed]"
     },
     "metadata": {}
    }
   ],
   "source": [
    "df[['Profit','predicted_profit']].plot(kind='kde',figsize=(10,5),title='Profit prediction model')\n",
    "plt.show()"
   ]
  },
  {
   "cell_type": "code",
   "execution_count": 21,
   "metadata": {},
   "outputs": [],
   "source": [
    "model_dict ={\n",
    "    'state_encoder':state_encod,\n",
    "    'scaler': scalerx,\n",
    "    'model' : reg,\n",
    "    'description' : \"startup profit prediction\"\n",
    "}\n",
    "\n",
    "save_path = '../model/startup_profit_linear.pk'\n"
   ]
  },
  {
   "cell_type": "code",
   "execution_count": 22,
   "metadata": {},
   "outputs": [
    {
     "output_type": "execute_result",
     "data": {
      "text/plain": [
       "True"
      ]
     },
     "metadata": {},
     "execution_count": 22
    }
   ],
   "source": [
    "save_model(model_dict, save_path)"
   ]
  }
 ],
 "metadata": {
  "kernelspec": {
   "name": "python385jvsc74a57bd0916dbcbb3f70747c44a77c7bcd40155683ae19c65e1c03b4aa3499c5328201f1",
   "display_name": "Python 3.8.5 64-bit"
  },
  "language_info": {
   "codemirror_mode": {
    "name": "ipython",
    "version": 3
   },
   "file_extension": ".py",
   "mimetype": "text/x-python",
   "name": "python",
   "nbconvert_exporter": "python",
   "pygments_lexer": "ipython3",
   "version": "3.8.5-final"
  },
  "metadata": {
   "interpreter": {
    "hash": "916dbcbb3f70747c44a77c7bcd40155683ae19c65e1c03b4aa3499c5328201f1"
   }
  }
 },
 "nbformat": 4,
 "nbformat_minor": 2
}