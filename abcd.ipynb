{
 "metadata": {
  "language_info": {
   "codemirror_mode": {
    "name": "ipython",
    "version": 3
   },
   "file_extension": ".py",
   "mimetype": "text/x-python",
   "name": "python",
   "nbconvert_exporter": "python",
   "pygments_lexer": "ipython3",
   "version": "3.9.1-final"
  },
  "orig_nbformat": 2,
  "kernelspec": {
   "name": "python3",
   "display_name": "Python 3.9.1 64-bit",
   "metadata": {
    "interpreter": {
     "hash": "31f2aee4e71d21fbe5cf8b01ff0e069b9275f58929596ceb00d14d90e3e16cd6"
    }
   }
  }
 },
 "nbformat": 4,
 "nbformat_minor": 2,
 "cells": [
  {
   "source": [
    "# preprocessing\n",
    "    - imputation\n",
    "        - missing data imputation\n",
    "        - numerical data imputation\n",
    "            - mean value is filled in missing places\n",
    "        - categorical data imputation\n",
    "            - frequenct (mode) vale is filled in missing places\n",
    "\n",
    "    - encoding\n",
    "        - change ur categorical(non numerical data) into numerical data\n",
    "            - label Encoding\n",
    "                - if a column has 2 unique categorical values\n",
    "            - one hot encoding\n",
    "                - if a column  has more than 2 categorical values\n",
    "            - vectorization \n",
    "                - if you want to convert words to vector(numerical) format\n",
    "\n",
    "    - scaling / normalization\n",
    "        - how to make the all the column to same scale so that ML algo can work properly"
   ],
   "cell_type": "markdown",
   "metadata": {}
  },
  {
   "cell_type": "code",
   "execution_count": 1,
   "metadata": {},
   "outputs": [],
   "source": [
    "from sklearn.impute import SimpleImputer \n",
    "from sklearn.preprocessing import LabelEncoder, OneHotEncoder\n",
    "from sklearn.preprocessing import StandardScaler\n",
    "import os\n",
    "import numpy as np\n",
    "import pandas as pd\n",
    "import matplotlib.pyplot as plt"
   ]
  },
  {
   "cell_type": "code",
   "execution_count": 50,
   "metadata": {},
   "outputs": [
    {
     "output_type": "execute_result",
     "data": {
      "text/plain": [
       "['sample_data.csv']"
      ]
     },
     "metadata": {},
     "execution_count": 50
    }
   ],
   "source": [
    "    os.listdir('dataset')"
   ]
  },
  {
   "cell_type": "code",
   "execution_count": 51,
   "metadata": {},
   "outputs": [
    {
     "output_type": "execute_result",
     "data": {
      "text/plain": [
       "True"
      ]
     },
     "metadata": {},
     "execution_count": 51
    }
   ],
   "source": [
    "os.path.exists('dataset/sample_data.csv')"
   ]
  },
  {
   "cell_type": "code",
   "execution_count": 52,
   "metadata": {},
   "outputs": [],
   "source": [
    "df = pd.read_csv('dataset/sample_data.csv')"
   ]
  },
  {
   "cell_type": "code",
   "execution_count": 53,
   "metadata": {},
   "outputs": [
    {
     "output_type": "execute_result",
     "data": {
      "text/plain": [
       "    country    salary   age happy\n",
       "0   germany   49000.0  35.0   yes\n",
       "1     spain   10000.0  30.0    no\n",
       "2     italy  230000.0  39.0    no\n",
       "3     spain  200000.0  30.0   yes\n",
       "4     italy  300000.0  30.0   yes\n",
       "5     spain   31000.0  23.0    no\n",
       "6   germany       NaN  34.0   yes\n",
       "7     spain  400000.0   NaN   yes\n",
       "8     italy  200000.0  29.0    no\n",
       "9     italy  340000.0  35.0   yes\n",
       "10  germany   30000.0  25.0   yes"
      ],
      "text/html": "<div>\n<style scoped>\n    .dataframe tbody tr th:only-of-type {\n        vertical-align: middle;\n    }\n\n    .dataframe tbody tr th {\n        vertical-align: top;\n    }\n\n    .dataframe thead th {\n        text-align: right;\n    }\n</style>\n<table border=\"1\" class=\"dataframe\">\n  <thead>\n    <tr style=\"text-align: right;\">\n      <th></th>\n      <th>country</th>\n      <th>salary</th>\n      <th>age</th>\n      <th>happy</th>\n    </tr>\n  </thead>\n  <tbody>\n    <tr>\n      <th>0</th>\n      <td>germany</td>\n      <td>49000.0</td>\n      <td>35.0</td>\n      <td>yes</td>\n    </tr>\n    <tr>\n      <th>1</th>\n      <td>spain</td>\n      <td>10000.0</td>\n      <td>30.0</td>\n      <td>no</td>\n    </tr>\n    <tr>\n      <th>2</th>\n      <td>italy</td>\n      <td>230000.0</td>\n      <td>39.0</td>\n      <td>no</td>\n    </tr>\n    <tr>\n      <th>3</th>\n      <td>spain</td>\n      <td>200000.0</td>\n      <td>30.0</td>\n      <td>yes</td>\n    </tr>\n    <tr>\n      <th>4</th>\n      <td>italy</td>\n      <td>300000.0</td>\n      <td>30.0</td>\n      <td>yes</td>\n    </tr>\n    <tr>\n      <th>5</th>\n      <td>spain</td>\n      <td>31000.0</td>\n      <td>23.0</td>\n      <td>no</td>\n    </tr>\n    <tr>\n      <th>6</th>\n      <td>germany</td>\n      <td>NaN</td>\n      <td>34.0</td>\n      <td>yes</td>\n    </tr>\n    <tr>\n      <th>7</th>\n      <td>spain</td>\n      <td>400000.0</td>\n      <td>NaN</td>\n      <td>yes</td>\n    </tr>\n    <tr>\n      <th>8</th>\n      <td>italy</td>\n      <td>200000.0</td>\n      <td>29.0</td>\n      <td>no</td>\n    </tr>\n    <tr>\n      <th>9</th>\n      <td>italy</td>\n      <td>340000.0</td>\n      <td>35.0</td>\n      <td>yes</td>\n    </tr>\n    <tr>\n      <th>10</th>\n      <td>germany</td>\n      <td>30000.0</td>\n      <td>25.0</td>\n      <td>yes</td>\n    </tr>\n  </tbody>\n</table>\n</div>"
     },
     "metadata": {},
     "execution_count": 53
    }
   ],
   "source": [
    "df"
   ]
  },
  {
   "source": [
    "IMPUTATION"
   ],
   "cell_type": "markdown",
   "metadata": {}
  },
  {
   "cell_type": "code",
   "execution_count": 54,
   "metadata": {},
   "outputs": [
    {
     "output_type": "stream",
     "text": [
      "\u001b[0;31mInit signature:\u001b[0m\n",
      "\u001b[0mSimpleImputer\u001b[0m\u001b[0;34m(\u001b[0m\u001b[0;34m\u001b[0m\n",
      "\u001b[0;34m\u001b[0m    \u001b[0;34m*\u001b[0m\u001b[0;34m,\u001b[0m\u001b[0;34m\u001b[0m\n",
      "\u001b[0;34m\u001b[0m    \u001b[0mmissing_values\u001b[0m\u001b[0;34m=\u001b[0m\u001b[0mnan\u001b[0m\u001b[0;34m,\u001b[0m\u001b[0;34m\u001b[0m\n",
      "\u001b[0;34m\u001b[0m    \u001b[0mstrategy\u001b[0m\u001b[0;34m=\u001b[0m\u001b[0;34m'mean'\u001b[0m\u001b[0;34m,\u001b[0m\u001b[0;34m\u001b[0m\n",
      "\u001b[0;34m\u001b[0m    \u001b[0mfill_value\u001b[0m\u001b[0;34m=\u001b[0m\u001b[0;32mNone\u001b[0m\u001b[0;34m,\u001b[0m\u001b[0;34m\u001b[0m\n",
      "\u001b[0;34m\u001b[0m    \u001b[0mverbose\u001b[0m\u001b[0;34m=\u001b[0m\u001b[0;36m0\u001b[0m\u001b[0;34m,\u001b[0m\u001b[0;34m\u001b[0m\n",
      "\u001b[0;34m\u001b[0m    \u001b[0mcopy\u001b[0m\u001b[0;34m=\u001b[0m\u001b[0;32mTrue\u001b[0m\u001b[0;34m,\u001b[0m\u001b[0;34m\u001b[0m\n",
      "\u001b[0;34m\u001b[0m    \u001b[0madd_indicator\u001b[0m\u001b[0;34m=\u001b[0m\u001b[0;32mFalse\u001b[0m\u001b[0;34m,\u001b[0m\u001b[0;34m\u001b[0m\n",
      "\u001b[0;34m\u001b[0m\u001b[0;34m)\u001b[0m\u001b[0;34m\u001b[0m\u001b[0;34m\u001b[0m\u001b[0m\n",
      "\u001b[0;31mDocstring:\u001b[0m     \n",
      "Imputation transformer for completing missing values.\n",
      "\n",
      "Read more in the :ref:`User Guide <impute>`.\n",
      "\n",
      ".. versionadded:: 0.20\n",
      "   `SimpleImputer` replaces the previous `sklearn.preprocessing.Imputer`\n",
      "   estimator which is now removed.\n",
      "\n",
      "Parameters\n",
      "----------\n",
      "missing_values : int, float, str, np.nan or None, default=np.nan\n",
      "    The placeholder for the missing values. All occurrences of\n",
      "    `missing_values` will be imputed. For pandas' dataframes with\n",
      "    nullable integer dtypes with missing values, `missing_values`\n",
      "    should be set to `np.nan`, since `pd.NA` will be converted to `np.nan`.\n",
      "\n",
      "strategy : string, default='mean'\n",
      "    The imputation strategy.\n",
      "\n",
      "    - If \"mean\", then replace missing values using the mean along\n",
      "      each column. Can only be used with numeric data.\n",
      "    - If \"median\", then replace missing values using the median along\n",
      "      each column. Can only be used with numeric data.\n",
      "    - If \"most_frequent\", then replace missing using the most frequent\n",
      "      value along each column. Can be used with strings or numeric data.\n",
      "      If there is more than one such value, only the smallest is returned.\n",
      "    - If \"constant\", then replace missing values with fill_value. Can be\n",
      "      used with strings or numeric data.\n",
      "\n",
      "    .. versionadded:: 0.20\n",
      "       strategy=\"constant\" for fixed value imputation.\n",
      "\n",
      "fill_value : string or numerical value, default=None\n",
      "    When strategy == \"constant\", fill_value is used to replace all\n",
      "    occurrences of missing_values.\n",
      "    If left to the default, fill_value will be 0 when imputing numerical\n",
      "    data and \"missing_value\" for strings or object data types.\n",
      "\n",
      "verbose : integer, default=0\n",
      "    Controls the verbosity of the imputer.\n",
      "\n",
      "copy : boolean, default=True\n",
      "    If True, a copy of X will be created. If False, imputation will\n",
      "    be done in-place whenever possible. Note that, in the following cases,\n",
      "    a new copy will always be made, even if `copy=False`:\n",
      "\n",
      "    - If X is not an array of floating values;\n",
      "    - If X is encoded as a CSR matrix;\n",
      "    - If add_indicator=True.\n",
      "\n",
      "add_indicator : boolean, default=False\n",
      "    If True, a :class:`MissingIndicator` transform will stack onto output\n",
      "    of the imputer's transform. This allows a predictive estimator\n",
      "    to account for missingness despite imputation. If a feature has no\n",
      "    missing values at fit/train time, the feature won't appear on\n",
      "    the missing indicator even if there are missing values at\n",
      "    transform/test time.\n",
      "\n",
      "Attributes\n",
      "----------\n",
      "statistics_ : array of shape (n_features,)\n",
      "    The imputation fill value for each feature.\n",
      "    Computing statistics can result in `np.nan` values.\n",
      "    During :meth:`transform`, features corresponding to `np.nan`\n",
      "    statistics will be discarded.\n",
      "\n",
      "indicator_ : :class:`~sklearn.impute.MissingIndicator`\n",
      "    Indicator used to add binary indicators for missing values.\n",
      "    ``None`` if add_indicator is False.\n",
      "\n",
      "See Also\n",
      "--------\n",
      "IterativeImputer : Multivariate imputation of missing values.\n",
      "\n",
      "Examples\n",
      "--------\n",
      ">>> import numpy as np\n",
      ">>> from sklearn.impute import SimpleImputer\n",
      ">>> imp_mean = SimpleImputer(missing_values=np.nan, strategy='mean')\n",
      ">>> imp_mean.fit([[7, 2, 3], [4, np.nan, 6], [10, 5, 9]])\n",
      "SimpleImputer()\n",
      ">>> X = [[np.nan, 2, 3], [4, np.nan, 6], [10, np.nan, 9]]\n",
      ">>> print(imp_mean.transform(X))\n",
      "[[ 7.   2.   3. ]\n",
      " [ 4.   3.5  6. ]\n",
      " [10.   3.5  9. ]]\n",
      "\n",
      "Notes\n",
      "-----\n",
      "Columns which only contained missing values at :meth:`fit` are discarded\n",
      "upon :meth:`transform` if strategy is not \"constant\".\n",
      "\u001b[0;31mFile:\u001b[0m           ~/.local/lib/python3.9/site-packages/sklearn/impute/_base.py\n",
      "\u001b[0;31mType:\u001b[0m           type\n",
      "\u001b[0;31mSubclasses:\u001b[0m     \n"
     ],
     "name": "stdout"
    }
   ],
   "source": [
    "SimpleImputer?"
   ]
  },
  {
   "cell_type": "code",
   "execution_count": 55,
   "metadata": {},
   "outputs": [],
   "source": [
    "imputer = SimpleImputer()"
   ]
  },
  {
   "cell_type": "code",
   "execution_count": 56,
   "metadata": {},
   "outputs": [],
   "source": [
    "cols= ['salary','age']\n",
    "df[cols] = imputer.fit_transform(df[cols]).astype(int)"
   ]
  },
  {
   "cell_type": "code",
   "execution_count": 57,
   "metadata": {},
   "outputs": [
    {
     "output_type": "execute_result",
     "data": {
      "text/plain": [
       "    country  salary  age happy\n",
       "0   germany   49000   35   yes\n",
       "1     spain   10000   30    no\n",
       "2     italy  230000   39    no\n",
       "3     spain  200000   30   yes\n",
       "4     italy  300000   30   yes\n",
       "5     spain   31000   23    no\n",
       "6   germany  179000   34   yes\n",
       "7     spain  400000   31   yes\n",
       "8     italy  200000   29    no\n",
       "9     italy  340000   35   yes\n",
       "10  germany   30000   25   yes"
      ],
      "text/html": "<div>\n<style scoped>\n    .dataframe tbody tr th:only-of-type {\n        vertical-align: middle;\n    }\n\n    .dataframe tbody tr th {\n        vertical-align: top;\n    }\n\n    .dataframe thead th {\n        text-align: right;\n    }\n</style>\n<table border=\"1\" class=\"dataframe\">\n  <thead>\n    <tr style=\"text-align: right;\">\n      <th></th>\n      <th>country</th>\n      <th>salary</th>\n      <th>age</th>\n      <th>happy</th>\n    </tr>\n  </thead>\n  <tbody>\n    <tr>\n      <th>0</th>\n      <td>germany</td>\n      <td>49000</td>\n      <td>35</td>\n      <td>yes</td>\n    </tr>\n    <tr>\n      <th>1</th>\n      <td>spain</td>\n      <td>10000</td>\n      <td>30</td>\n      <td>no</td>\n    </tr>\n    <tr>\n      <th>2</th>\n      <td>italy</td>\n      <td>230000</td>\n      <td>39</td>\n      <td>no</td>\n    </tr>\n    <tr>\n      <th>3</th>\n      <td>spain</td>\n      <td>200000</td>\n      <td>30</td>\n      <td>yes</td>\n    </tr>\n    <tr>\n      <th>4</th>\n      <td>italy</td>\n      <td>300000</td>\n      <td>30</td>\n      <td>yes</td>\n    </tr>\n    <tr>\n      <th>5</th>\n      <td>spain</td>\n      <td>31000</td>\n      <td>23</td>\n      <td>no</td>\n    </tr>\n    <tr>\n      <th>6</th>\n      <td>germany</td>\n      <td>179000</td>\n      <td>34</td>\n      <td>yes</td>\n    </tr>\n    <tr>\n      <th>7</th>\n      <td>spain</td>\n      <td>400000</td>\n      <td>31</td>\n      <td>yes</td>\n    </tr>\n    <tr>\n      <th>8</th>\n      <td>italy</td>\n      <td>200000</td>\n      <td>29</td>\n      <td>no</td>\n    </tr>\n    <tr>\n      <th>9</th>\n      <td>italy</td>\n      <td>340000</td>\n      <td>35</td>\n      <td>yes</td>\n    </tr>\n    <tr>\n      <th>10</th>\n      <td>germany</td>\n      <td>30000</td>\n      <td>25</td>\n      <td>yes</td>\n    </tr>\n  </tbody>\n</table>\n</div>"
     },
     "metadata": {},
     "execution_count": 57
    }
   ],
   "source": [
    "df"
   ]
  },
  {
   "source": [
    "ENCODING"
   ],
   "cell_type": "markdown",
   "metadata": {}
  },
  {
   "cell_type": "code",
   "execution_count": 58,
   "metadata": {},
   "outputs": [
    {
     "output_type": "execute_result",
     "data": {
      "text/plain": [
       "country     3\n",
       "salary     10\n",
       "age         8\n",
       "happy       2\n",
       "dtype: int64"
      ]
     },
     "metadata": {},
     "execution_count": 58
    }
   ],
   "source": [
    "df.nunique() # we select happy col for label encoding"
   ]
  },
  {
   "cell_type": "code",
   "execution_count": 59,
   "metadata": {},
   "outputs": [],
   "source": [
    "hpyEncoder = LabelEncoder()\n",
    "df['happy'] = hpyEncoder.fit_transform(df['happy'])"
   ]
  },
  {
   "cell_type": "code",
   "execution_count": 60,
   "metadata": {},
   "outputs": [
    {
     "output_type": "execute_result",
     "data": {
      "text/plain": [
       "    country  salary  age  happy\n",
       "0   germany   49000   35      1\n",
       "1     spain   10000   30      0\n",
       "2     italy  230000   39      0\n",
       "3     spain  200000   30      1\n",
       "4     italy  300000   30      1\n",
       "5     spain   31000   23      0\n",
       "6   germany  179000   34      1\n",
       "7     spain  400000   31      1\n",
       "8     italy  200000   29      0\n",
       "9     italy  340000   35      1\n",
       "10  germany   30000   25      1"
      ],
      "text/html": "<div>\n<style scoped>\n    .dataframe tbody tr th:only-of-type {\n        vertical-align: middle;\n    }\n\n    .dataframe tbody tr th {\n        vertical-align: top;\n    }\n\n    .dataframe thead th {\n        text-align: right;\n    }\n</style>\n<table border=\"1\" class=\"dataframe\">\n  <thead>\n    <tr style=\"text-align: right;\">\n      <th></th>\n      <th>country</th>\n      <th>salary</th>\n      <th>age</th>\n      <th>happy</th>\n    </tr>\n  </thead>\n  <tbody>\n    <tr>\n      <th>0</th>\n      <td>germany</td>\n      <td>49000</td>\n      <td>35</td>\n      <td>1</td>\n    </tr>\n    <tr>\n      <th>1</th>\n      <td>spain</td>\n      <td>10000</td>\n      <td>30</td>\n      <td>0</td>\n    </tr>\n    <tr>\n      <th>2</th>\n      <td>italy</td>\n      <td>230000</td>\n      <td>39</td>\n      <td>0</td>\n    </tr>\n    <tr>\n      <th>3</th>\n      <td>spain</td>\n      <td>200000</td>\n      <td>30</td>\n      <td>1</td>\n    </tr>\n    <tr>\n      <th>4</th>\n      <td>italy</td>\n      <td>300000</td>\n      <td>30</td>\n      <td>1</td>\n    </tr>\n    <tr>\n      <th>5</th>\n      <td>spain</td>\n      <td>31000</td>\n      <td>23</td>\n      <td>0</td>\n    </tr>\n    <tr>\n      <th>6</th>\n      <td>germany</td>\n      <td>179000</td>\n      <td>34</td>\n      <td>1</td>\n    </tr>\n    <tr>\n      <th>7</th>\n      <td>spain</td>\n      <td>400000</td>\n      <td>31</td>\n      <td>1</td>\n    </tr>\n    <tr>\n      <th>8</th>\n      <td>italy</td>\n      <td>200000</td>\n      <td>29</td>\n      <td>0</td>\n    </tr>\n    <tr>\n      <th>9</th>\n      <td>italy</td>\n      <td>340000</td>\n      <td>35</td>\n      <td>1</td>\n    </tr>\n    <tr>\n      <th>10</th>\n      <td>germany</td>\n      <td>30000</td>\n      <td>25</td>\n      <td>1</td>\n    </tr>\n  </tbody>\n</table>\n</div>"
     },
     "metadata": {},
     "execution_count": 60
    }
   ],
   "source": [
    "df"
   ]
  },
  {
   "source": [
    "ONE HOT ENCODING"
   ],
   "cell_type": "markdown",
   "metadata": {}
  },
  {
   "cell_type": "code",
   "execution_count": 61,
   "metadata": {},
   "outputs": [],
   "source": [
    "countryHotEnc = OneHotEncoder(drop='first')\n",
    "country_enc = countryHotEnc.fit_transform(df[['country']]).toarray()      # 2 square bracket otherwise it will take row data"
   ]
  },
  {
   "cell_type": "code",
   "execution_count": 62,
   "metadata": {},
   "outputs": [
    {
     "output_type": "execute_result",
     "data": {
      "text/plain": [
       "array([[0., 0.],\n",
       "       [0., 1.],\n",
       "       [1., 0.],\n",
       "       [0., 1.],\n",
       "       [1., 0.],\n",
       "       [0., 1.],\n",
       "       [0., 0.],\n",
       "       [0., 1.],\n",
       "       [1., 0.],\n",
       "       [1., 0.],\n",
       "       [0., 0.]])"
      ]
     },
     "metadata": {},
     "execution_count": 62
    }
   ],
   "source": [
    "country_enc"
   ]
  },
  {
   "cell_type": "code",
   "execution_count": 65,
   "metadata": {},
   "outputs": [],
   "source": [
    "hot_enc_countrydf = pd.DataFrame(country_enc,columns=['italy','spain'])"
   ]
  },
  {
   "cell_type": "code",
   "execution_count": 66,
   "metadata": {},
   "outputs": [],
   "source": [
    "df = pd.concat([hot_enc_countrydf,df],axis=1)"
   ]
  },
  {
   "cell_type": "code",
   "execution_count": 67,
   "metadata": {},
   "outputs": [],
   "source": [
    "df.drop(columns=['country'],axis=1,inplace=True)"
   ]
  },
  {
   "cell_type": "code",
   "execution_count": 68,
   "metadata": {},
   "outputs": [
    {
     "output_type": "execute_result",
     "data": {
      "text/plain": [
       "    italy  spain  salary  age  happy\n",
       "0     0.0    0.0   49000   35      1\n",
       "1     0.0    1.0   10000   30      0\n",
       "2     1.0    0.0  230000   39      0\n",
       "3     0.0    1.0  200000   30      1\n",
       "4     1.0    0.0  300000   30      1\n",
       "5     0.0    1.0   31000   23      0\n",
       "6     0.0    0.0  179000   34      1\n",
       "7     0.0    1.0  400000   31      1\n",
       "8     1.0    0.0  200000   29      0\n",
       "9     1.0    0.0  340000   35      1\n",
       "10    0.0    0.0   30000   25      1"
      ],
      "text/html": "<div>\n<style scoped>\n    .dataframe tbody tr th:only-of-type {\n        vertical-align: middle;\n    }\n\n    .dataframe tbody tr th {\n        vertical-align: top;\n    }\n\n    .dataframe thead th {\n        text-align: right;\n    }\n</style>\n<table border=\"1\" class=\"dataframe\">\n  <thead>\n    <tr style=\"text-align: right;\">\n      <th></th>\n      <th>italy</th>\n      <th>spain</th>\n      <th>salary</th>\n      <th>age</th>\n      <th>happy</th>\n    </tr>\n  </thead>\n  <tbody>\n    <tr>\n      <th>0</th>\n      <td>0.0</td>\n      <td>0.0</td>\n      <td>49000</td>\n      <td>35</td>\n      <td>1</td>\n    </tr>\n    <tr>\n      <th>1</th>\n      <td>0.0</td>\n      <td>1.0</td>\n      <td>10000</td>\n      <td>30</td>\n      <td>0</td>\n    </tr>\n    <tr>\n      <th>2</th>\n      <td>1.0</td>\n      <td>0.0</td>\n      <td>230000</td>\n      <td>39</td>\n      <td>0</td>\n    </tr>\n    <tr>\n      <th>3</th>\n      <td>0.0</td>\n      <td>1.0</td>\n      <td>200000</td>\n      <td>30</td>\n      <td>1</td>\n    </tr>\n    <tr>\n      <th>4</th>\n      <td>1.0</td>\n      <td>0.0</td>\n      <td>300000</td>\n      <td>30</td>\n      <td>1</td>\n    </tr>\n    <tr>\n      <th>5</th>\n      <td>0.0</td>\n      <td>1.0</td>\n      <td>31000</td>\n      <td>23</td>\n      <td>0</td>\n    </tr>\n    <tr>\n      <th>6</th>\n      <td>0.0</td>\n      <td>0.0</td>\n      <td>179000</td>\n      <td>34</td>\n      <td>1</td>\n    </tr>\n    <tr>\n      <th>7</th>\n      <td>0.0</td>\n      <td>1.0</td>\n      <td>400000</td>\n      <td>31</td>\n      <td>1</td>\n    </tr>\n    <tr>\n      <th>8</th>\n      <td>1.0</td>\n      <td>0.0</td>\n      <td>200000</td>\n      <td>29</td>\n      <td>0</td>\n    </tr>\n    <tr>\n      <th>9</th>\n      <td>1.0</td>\n      <td>0.0</td>\n      <td>340000</td>\n      <td>35</td>\n      <td>1</td>\n    </tr>\n    <tr>\n      <th>10</th>\n      <td>0.0</td>\n      <td>0.0</td>\n      <td>30000</td>\n      <td>25</td>\n      <td>1</td>\n    </tr>\n  </tbody>\n</table>\n</div>"
     },
     "metadata": {},
     "execution_count": 68
    }
   ],
   "source": [
    "df"
   ]
  },
  {
   "source": [
    "SCALING & NORMALIZATION"
   ],
   "cell_type": "markdown",
   "metadata": {}
  },
  {
   "cell_type": "code",
   "execution_count": 69,
   "metadata": {},
   "outputs": [],
   "source": [
    "cols = df.columns.tolist()[:-1]"
   ]
  },
  {
   "cell_type": "code",
   "execution_count": 70,
   "metadata": {},
   "outputs": [
    {
     "output_type": "execute_result",
     "data": {
      "text/plain": [
       "['italy', 'spain', 'salary', 'age']"
      ]
     },
     "metadata": {},
     "execution_count": 70
    }
   ],
   "source": [
    "cols"
   ]
  },
  {
   "cell_type": "code",
   "execution_count": 71,
   "metadata": {},
   "outputs": [],
   "source": [
    "scaling = StandardScaler()\n",
    "df[cols] = scaling.fit_transform(df[cols])"
   ]
  },
  {
   "cell_type": "code",
   "execution_count": 72,
   "metadata": {},
   "outputs": [
    {
     "output_type": "execute_result",
     "data": {
      "text/plain": [
       "       italy     spain    salary       age  happy\n",
       "0  -0.755929 -0.755929 -1.009405  0.911147      1\n",
       "1  -0.755929  1.322876 -1.312226 -0.227787      0\n",
       "2   1.322876 -0.755929  0.395997  1.822294      0\n",
       "3  -0.755929  1.322876  0.163058 -0.227787      1\n",
       "4   1.322876 -0.755929  0.939523 -0.227787      1\n",
       "5  -0.755929  1.322876 -1.149169 -1.822294      0\n",
       "6  -0.755929 -0.755929  0.000000  0.683360      1\n",
       "7  -0.755929  1.322876  1.715988  0.000000      1\n",
       "8   1.322876 -0.755929  0.163058 -0.455573      0\n",
       "9   1.322876 -0.755929  1.250109  0.911147      1\n",
       "10 -0.755929 -0.755929 -1.156933 -1.366720      1"
      ],
      "text/html": "<div>\n<style scoped>\n    .dataframe tbody tr th:only-of-type {\n        vertical-align: middle;\n    }\n\n    .dataframe tbody tr th {\n        vertical-align: top;\n    }\n\n    .dataframe thead th {\n        text-align: right;\n    }\n</style>\n<table border=\"1\" class=\"dataframe\">\n  <thead>\n    <tr style=\"text-align: right;\">\n      <th></th>\n      <th>italy</th>\n      <th>spain</th>\n      <th>salary</th>\n      <th>age</th>\n      <th>happy</th>\n    </tr>\n  </thead>\n  <tbody>\n    <tr>\n      <th>0</th>\n      <td>-0.755929</td>\n      <td>-0.755929</td>\n      <td>-1.009405</td>\n      <td>0.911147</td>\n      <td>1</td>\n    </tr>\n    <tr>\n      <th>1</th>\n      <td>-0.755929</td>\n      <td>1.322876</td>\n      <td>-1.312226</td>\n      <td>-0.227787</td>\n      <td>0</td>\n    </tr>\n    <tr>\n      <th>2</th>\n      <td>1.322876</td>\n      <td>-0.755929</td>\n      <td>0.395997</td>\n      <td>1.822294</td>\n      <td>0</td>\n    </tr>\n    <tr>\n      <th>3</th>\n      <td>-0.755929</td>\n      <td>1.322876</td>\n      <td>0.163058</td>\n      <td>-0.227787</td>\n      <td>1</td>\n    </tr>\n    <tr>\n      <th>4</th>\n      <td>1.322876</td>\n      <td>-0.755929</td>\n      <td>0.939523</td>\n      <td>-0.227787</td>\n      <td>1</td>\n    </tr>\n    <tr>\n      <th>5</th>\n      <td>-0.755929</td>\n      <td>1.322876</td>\n      <td>-1.149169</td>\n      <td>-1.822294</td>\n      <td>0</td>\n    </tr>\n    <tr>\n      <th>6</th>\n      <td>-0.755929</td>\n      <td>-0.755929</td>\n      <td>0.000000</td>\n      <td>0.683360</td>\n      <td>1</td>\n    </tr>\n    <tr>\n      <th>7</th>\n      <td>-0.755929</td>\n      <td>1.322876</td>\n      <td>1.715988</td>\n      <td>0.000000</td>\n      <td>1</td>\n    </tr>\n    <tr>\n      <th>8</th>\n      <td>1.322876</td>\n      <td>-0.755929</td>\n      <td>0.163058</td>\n      <td>-0.455573</td>\n      <td>0</td>\n    </tr>\n    <tr>\n      <th>9</th>\n      <td>1.322876</td>\n      <td>-0.755929</td>\n      <td>1.250109</td>\n      <td>0.911147</td>\n      <td>1</td>\n    </tr>\n    <tr>\n      <th>10</th>\n      <td>-0.755929</td>\n      <td>-0.755929</td>\n      <td>-1.156933</td>\n      <td>-1.366720</td>\n      <td>1</td>\n    </tr>\n  </tbody>\n</table>\n</div>"
     },
     "metadata": {},
     "execution_count": 72
    }
   ],
   "source": [
    "df"
   ]
  },
  {
   "cell_type": "code",
   "execution_count": 1,
   "metadata": {},
   "outputs": [
    {
     "output_type": "stream",
     "name": "stdout",
     "text": [
      "Collecting seaborn\n",
      "  Downloading seaborn-0.11.1-py3-none-any.whl (285 kB)\n",
      "\u001b[K     |████████████████████████████████| 285 kB 3.5 MB/s \n",
      "\u001b[?25hRequirement already satisfied: scipy>=1.0 in /usr/lib/python3/dist-packages (from seaborn) (1.6.0)\n",
      "Requirement already satisfied: matplotlib>=2.2 in /usr/lib/python3/dist-packages (from seaborn) (3.3.4)\n",
      "Requirement already satisfied: numpy>=1.15 in /usr/lib/python3/dist-packages (from seaborn) (1.19.5)\n",
      "Requirement already satisfied: pandas>=0.23 in /usr/lib/python3/dist-packages (from seaborn) (1.1.5)\n",
      "Installing collected packages: seaborn\n",
      "Successfully installed seaborn-0.11.1\n",
      "Note: you may need to restart the kernel to use updated packages.\n"
     ]
    }
   ],
   "source": [
    "pip install seaborn\n"
   ]
  },
  {
   "cell_type": "code",
   "execution_count": null,
   "metadata": {},
   "outputs": [],
   "source": []
  }
 ]
}